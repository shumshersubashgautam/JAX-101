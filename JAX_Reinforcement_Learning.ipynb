{
  "nbformat": 4,
  "nbformat_minor": 0,
  "metadata": {
    "colab": {
      "provenance": [],
      "gpuType": "T4"
    },
    "kernelspec": {
      "name": "python3",
      "display_name": "Python 3"
    },
    "language_info": {
      "name": "python"
    },
    "accelerator": "GPU"
  },
  "cells": [
    {
      "cell_type": "code",
      "execution_count": 1,
      "metadata": {
        "id": "0nDklWmZ0jPR"
      },
      "outputs": [],
      "source": [
        "# @title Install required packages (run me) { display-mode: \"form\" }\n",
        "# This may take a minute or two to complete.\n",
        "%%capture\n",
        "!pip install jaxlib\n",
        "!pip install jax\n",
        "!pip install git+https://github.com/deepmind/dm-haiku\n",
        "!pip install gym==0.25\n",
        "!pip install gym[box2d]\n",
        "!pip install optax\n",
        "!pip install matplotlib\n",
        "!pip install chex"
      ]
    },
    {
      "cell_type": "code",
      "source": [
        "# @title Import required packages (run me) { display-mode: \"form\" }\n",
        "%%capture\n",
        "import copy\n",
        "from shutil import rmtree # deleting directories\n",
        "import random\n",
        "import collections # useful data structures\n",
        "import numpy as np\n",
        "import gym # reinforcement learning environments\n",
        "from gym.wrappers import RecordVideo\n",
        "import jax\n",
        "import jax.numpy as jnp # jax numpy\n",
        "import haiku as hk # jax neural network library\n",
        "import optax # jax optimizer library\n",
        "import matplotlib.pyplot as plt # graph plotting library\n",
        "from IPython.display import HTML\n",
        "from base64 import b64encode\n",
        "import chex\n",
        "\n",
        "# Hide warnings\n",
        "import warnings\n",
        "warnings.filterwarnings('ignore')"
      ],
      "metadata": {
        "id": "DbGnHBgi1Nu6"
      },
      "execution_count": 2,
      "outputs": []
    },
    {
      "cell_type": "code",
      "source": [
        "# Create the environment\n",
        "env_name = \"CartPole-v0\"\n",
        "env = gym.make(env_name)"
      ],
      "metadata": {
        "id": "NsraxG0-2QzH"
      },
      "execution_count": 3,
      "outputs": []
    },
    {
      "cell_type": "code",
      "source": [
        "# Reset the environment\n",
        "s_0 = env.reset()\n",
        "print(\"Initial State::\", s_0)\n",
        "\n",
        "# Get environment obs space\n",
        "obs_shape = env.observation_space.shape\n",
        "print(\"Environment Obs Space Shape:\", obs_shape)"
      ],
      "metadata": {
        "colab": {
          "base_uri": "https://localhost:8080/"
        },
        "id": "vw1Yjy7i2tfD",
        "outputId": "caaa2e4e-82e5-42af-a6f1-840ee2b0cf1b"
      },
      "execution_count": 4,
      "outputs": [
        {
          "output_type": "stream",
          "name": "stdout",
          "text": [
            "Initial State:: [ 0.04090678 -0.02435194  0.04944371 -0.03584683]\n",
            "Environment Obs Space Shape: (4,)\n"
          ]
        }
      ]
    },
    {
      "cell_type": "code",
      "source": [
        "# Get action space - e.g. discrete or continuous\n",
        "print(f\"Environment action space: {env.action_space}\")\n",
        "\n",
        "# Get num actions\n",
        "num_actions = env.action_space.n\n",
        "print(f\"Number of actions: {num_actions}\")"
      ],
      "metadata": {
        "colab": {
          "base_uri": "https://localhost:8080/"
        },
        "id": "dowXiU6P2v7z",
        "outputId": "c726ef58-2b0a-4164-9d73-789deeebd0d0"
      },
      "execution_count": 5,
      "outputs": [
        {
          "output_type": "stream",
          "name": "stdout",
          "text": [
            "Environment action space: Discrete(2)\n",
            "Number of actions: 2\n"
          ]
        }
      ]
    },
    {
      "cell_type": "code",
      "source": [
        "# @title  Solution exercise 1 { display-mode: \"form\" }\n",
        "\n",
        "def linear_policy(params, obs):\n",
        "  \"\"\"A simple linear policy\n",
        "\n",
        "  Args:\n",
        "    params: a vector of four real-numbers that give the parameters of the policy\n",
        "    obs: a vector of four real-numbers that give the agent's observation\n",
        "\n",
        "  Returns:\n",
        "    a discrete action given by a 0 or 1\n",
        "  \"\"\"\n",
        "  # YOUR CODE\n",
        "  dot_product_result = jax.numpy.dot(params, obs)\n",
        "\n",
        "  action = jax.lax.select(\n",
        "      dot_product_result > 0, # boolean statement goes here\n",
        "      1, # result when the statement is True goes here\n",
        "      0, # result when the statement is False goes here\n",
        "  )\n",
        "  # END YOUR CODE\n",
        "  return action"
      ],
      "metadata": {
        "id": "vf6fFoUS21Oj"
      },
      "execution_count": 6,
      "outputs": []
    },
    {
      "cell_type": "code",
      "source": [
        "# @title Check exercise 1 (run me) { display-mode: \"form\" }\n",
        "\n",
        "def check_linear_policy(linear_policy):\n",
        "  fixed_obs = jnp.array([1,1,2,4])\n",
        "\n",
        "  # check case1 - negative dot product.\n",
        "  # weights\n",
        "  params1 = jnp.array([1,1,1,1])\n",
        "  params2 = jnp.array([-1,-1,-1,-1])\n",
        "\n",
        "  hint1 = f\"Incorrect answer, your linear policy is incorrect. The action when \\\n",
        "  obs={fixed_obs} and params={params1} should be 1\"\n",
        "\n",
        "  hint2 = f\"Incorrect answer, your linear policy is incorrect. The action when \\\n",
        "  obs={fixed_obs} and params={params2} should be 0\"\n",
        "\n",
        "  hint = None\n",
        "  if linear_policy(params1, fixed_obs) != 1:\n",
        "    hint = hint1\n",
        "  elif linear_policy(params2, fixed_obs) != 0:\n",
        "    hint = hint2\n",
        "\n",
        "  if hint is not None:\n",
        "    print(hint)\n",
        "  else:\n",
        "    print(\"Your function is correct!\")\n",
        "\n",
        "try:\n",
        "  check_linear_policy(linear_policy)\n",
        "except Exception as e:\n",
        "    print(\"An Error Occured: {}\".format(e))"
      ],
      "metadata": {
        "colab": {
          "base_uri": "https://localhost:8080/"
        },
        "id": "MId5xUxZ26Do",
        "outputId": "0cdbdd2f-5152-4ba8-914f-52da466e2eb8"
      },
      "execution_count": 7,
      "outputs": [
        {
          "output_type": "stream",
          "name": "stdout",
          "text": [
            "Your function is correct!\n"
          ]
        }
      ]
    },
    {
      "cell_type": "code",
      "source": [
        "# Get the initial obs by resetting the env\n",
        "initial_obs = env.reset()\n",
        "\n",
        "# Randomly sample actions from env\n",
        "action = env.action_space.sample()\n",
        "\n",
        "# Step the environment\n",
        "next_obs, reward, done, info = env.step(action)\n",
        "\n",
        "print(\"Observation:\", initial_obs)\n",
        "print(\"Action:\", action)\n",
        "print(\"Next observation:\", next_obs)\n",
        "print(\"Reward:\", reward)\n",
        "print(\"Game is done:\", done)"
      ],
      "metadata": {
        "colab": {
          "base_uri": "https://localhost:8080/"
        },
        "id": "IKccGhI43c0M",
        "outputId": "f865150b-58f7-4dba-9f63-5f409ce93b37"
      },
      "execution_count": 8,
      "outputs": [
        {
          "output_type": "stream",
          "name": "stdout",
          "text": [
            "Observation: [-0.03103711  0.02935717 -0.02909264 -0.00151746]\n",
            "Action: 0\n",
            "Next observation: [-0.03044996 -0.16533573 -0.02912299  0.28184628]\n",
            "Reward: 1.0\n",
            "Game is done: False\n"
          ]
        }
      ]
    },
    {
      "cell_type": "code",
      "source": [
        "def run_episode(env):\n",
        "  episode_return = 0 # counter to keep track of rewards\n",
        "  done = False # initially set to False\n",
        "  params = jnp.array([1,-2,2,-1]) # fixed policy parameters\n",
        "\n",
        "  ## YOUR CODE\n",
        "\n",
        "  obs = env.reset() # TODO: get the initial obs from the env\n",
        "\n",
        "\n",
        "  while not done: # loop until episode is done\n",
        "\n",
        "    action = linear_policy(params, obs) # TODO: compute action using linear policy\n",
        "    action = np.array(action) # We need to the convert the action from the policy to a np.array\n",
        "\n",
        "    obs, reward, done, info = env.step(action) # TODO: step the environment\n",
        "\n",
        "\n",
        "    episode_return = episode_return + reward # TODO: add reward to episode return\n",
        "\n",
        "  return episode_return"
      ],
      "metadata": {
        "id": "8dCn07AO3h0m"
      },
      "execution_count": 9,
      "outputs": []
    },
    {
      "cell_type": "code",
      "source": [
        "# #@title Soluction Exercise 2 { display-mode: \"form\" }\n",
        "# def run_episode(env):\n",
        "#   episode_return = 0 # counter to keep track of rewards\n",
        "#   done = False # initially set to False\n",
        "#   params = jnp.array([1,-2,2,-1]) # fixed policy parameters\n",
        "\n",
        "#   ## YOUR CODE\n",
        "\n",
        "#   obs = env.reset() # TODO: get the initial obs from the env\n",
        "\n",
        "#   while not done: # loop until episode is done\n",
        "\n",
        "#     # HINT: You might need to the convert the action from your policy to a np.array\n",
        "#     action = linear_policy(params, obs) # TODO: compute action using linear policy\n",
        "#     action = np.array(action) # We need to the convert the action from the policy to a np.array\n",
        "\n",
        "#     obs, reward, done, info = env.step(action) # TODO: step the environment\n",
        "\n",
        "#     episode_return = episode_return + reward # TODO: add reward to episode return\n",
        "\n",
        "#   return episode_return"
      ],
      "metadata": {
        "id": "euHUizeo31Nl"
      },
      "execution_count": 11,
      "outputs": []
    },
    {
      "cell_type": "code",
      "source": [
        "# @title Check exercise 2 (run me) { display-mode: \"form\" }\n",
        "\n",
        "try:\n",
        "  env.seed(42)\n",
        "  if run_episode(env) == 31:\n",
        "    print(\"Looks correct!\")\n",
        "  else:\n",
        "    print(\"Looks like your implementation might be wrong.\")\n",
        "except Exception as e:\n",
        "    print(\"An Error Occured: {}\".format(e))"
      ],
      "metadata": {
        "colab": {
          "base_uri": "https://localhost:8080/"
        },
        "id": "fUweOcHO3xMd",
        "outputId": "2c00d42d-bc75-40eb-b56b-61260455cab6"
      },
      "execution_count": 10,
      "outputs": [
        {
          "output_type": "stream",
          "name": "stdout",
          "text": [
            "Looks correct!\n"
          ]
        }
      ]
    },
    {
      "cell_type": "code",
      "source": [
        "#@title Training loop (run me) { display-mode: \"form\" }\n",
        "\n",
        "# NamedTuple to store transitions\n",
        "Transition = collections.namedtuple(\"Transition\", [\"obs\", \"action\", \"reward\", \"next_obs\", \"done\"])\n",
        "\n",
        "# Training Loop\n",
        "def run_training_loop(env_name, agent_params, agent_select_action_func,\n",
        "    agent_actor_state=None, agent_learn_func=None, agent_learner_state=None,\n",
        "    agent_memory=None, num_episodes=1000, evaluator_period=100,\n",
        "    evaluation_episodes=8, learn_steps_per_episode=1,\n",
        "    train_every_timestep=False, video_subdir=\"\",):\n",
        "    \"\"\"\n",
        "    This function runs several episodes in an environment and periodically does\n",
        "    some agent learning and evaluation.\n",
        "\n",
        "    Args:\n",
        "        env: a gym environment.\n",
        "        agent_params: an object to store parameters that the agent uses.\n",
        "        agent_select_func: a function that does action selection for the agent.\n",
        "        agent_actor_state (optional): an object that stores the internal state\n",
        "            of the agents action selection function.\n",
        "        agent_learn_func (optional): a function that does some learning for the\n",
        "            agent by updating the agent parameters.\n",
        "        agent_learn_state (optional): an object that stores the internal state\n",
        "            of the agent learn function.\n",
        "        agent_memory (optional): an object for storing an retrieving historical\n",
        "            experience.\n",
        "        num_episodes: how many episodes to run.\n",
        "        evaluator_period: how often to run evaluation.\n",
        "        evaluation_episodes: how many evaluation episodes to run.\n",
        "        train_every_timestep: whether to train every timestep rather than at the end\n",
        "            of the episode.\n",
        "        video_subdir: subdirectory to store epsiode recordings.\n",
        "\n",
        "    Returns:\n",
        "        episode_returns: list of all the episode returns.\n",
        "        evaluator_episode_returns: list of all the evaluator episode returns.\n",
        "    \"\"\"\n",
        "\n",
        "    # Setup Cartpole environment and recorder\n",
        "    env = gym.make(env_name, render_mode=\"rgb_array\") # training environment\n",
        "    eval_env = gym.make(env_name, render_mode=\"rgb_array\") # evaluation environment\n",
        "\n",
        "    # Video dir\n",
        "    video_dir = \"./video\"+\"/\"+video_subdir\n",
        "\n",
        "    # Clear video dir\n",
        "    try:\n",
        "      rmtree(video_dir)\n",
        "    except:\n",
        "      pass\n",
        "\n",
        "    # Wrap in recorder\n",
        "    env = RecordVideo(env, video_dir+\"/train\", episode_trigger=lambda x: (x % evaluator_period) == 0)\n",
        "    eval_env = RecordVideo(eval_env, video_dir+\"/eval\", episode_trigger=lambda x: (x % evaluation_episodes) == 0)\n",
        "\n",
        "    # JAX random number generator\n",
        "    rng = hk.PRNGSequence(jax.random.PRNGKey(0))\n",
        "    env.seed(0) # seed environment for reproducability\n",
        "    random.seed(0)\n",
        "\n",
        "    episode_returns = [] # List to store history of episode returns.\n",
        "    evaluator_episode_returns = [] # List to store history of evaluator returns.\n",
        "    timesteps = 0\n",
        "    for episode in range(num_episodes):\n",
        "\n",
        "        # Reset environment.\n",
        "        obs = env.reset()\n",
        "        episode_return = 0\n",
        "        done = False\n",
        "\n",
        "        while not done:\n",
        "\n",
        "            # Agent select action.\n",
        "            action, agent_actor_state = agent_select_action_func(\n",
        "                                            next(rng),\n",
        "                                            agent_params,\n",
        "                                            agent_actor_state,\n",
        "                                            np.array(obs)\n",
        "                                        )\n",
        "\n",
        "            # Step environment.\n",
        "            next_obs, reward, done, _ = env.step(int(action))\n",
        "\n",
        "            # Pack into transition.\n",
        "            transition = Transition(obs, action, reward, next_obs, done)\n",
        "\n",
        "            # Add transition to memory.\n",
        "            if agent_memory: # check if agent has memory\n",
        "              agent_memory.push(transition)\n",
        "\n",
        "            # Add reward to episode return.\n",
        "            episode_return += reward\n",
        "\n",
        "            # Set obs to next obs before next environment step. CRITICAL!!!\n",
        "            obs = next_obs\n",
        "\n",
        "            # Increment timestep counter\n",
        "            timesteps += 1\n",
        "\n",
        "            # Maybe learn every timestep\n",
        "            if train_every_timestep and (timesteps % 4 == 0) and agent_memory and agent_memory.is_ready(): # Make sure memory is ready\n",
        "                # First sample memory and then pass the result to the learn function\n",
        "                memory = agent_memory.sample()\n",
        "                agent_params, agent_learner_state = agent_learn_func(\n",
        "                                                        next(rng),\n",
        "                                                        agent_params,\n",
        "                                                        agent_learner_state,\n",
        "                                                        memory\n",
        "                                                    )\n",
        "\n",
        "        episode_returns.append(episode_return)\n",
        "\n",
        "        # At the end of every episode we do a learn step.\n",
        "        if agent_memory and agent_memory.is_ready(): # Make sure memory is ready\n",
        "\n",
        "            for _ in range(learn_steps_per_episode):\n",
        "                # First sample memory and then pass the result to the learn function\n",
        "                memory = agent_memory.sample()\n",
        "                agent_params, agent_learner_state = agent_learn_func(\n",
        "                                                        next(rng),\n",
        "                                                        agent_params,\n",
        "                                                        agent_learner_state,\n",
        "                                                        memory\n",
        "                                                    )\n",
        "\n",
        "        if (episode % evaluator_period) == 0: # Do evaluation\n",
        "\n",
        "            evaluator_episode_return = 0\n",
        "            for eval_episode in range(evaluation_episodes):\n",
        "                obs = eval_env.reset()\n",
        "                done = False\n",
        "                while not done:\n",
        "                    action, _ = agent_select_action_func(\n",
        "                                    next(rng),\n",
        "                                    agent_params,\n",
        "                                    agent_actor_state,\n",
        "                                    np.array(obs),\n",
        "                                    evaluation=True\n",
        "                                )\n",
        "\n",
        "                    obs, reward, done, _ = eval_env.step(int(action))\n",
        "\n",
        "                    evaluator_episode_return += reward\n",
        "\n",
        "            evaluator_episode_return /= evaluation_episodes\n",
        "\n",
        "            evaluator_episode_returns.append(evaluator_episode_return)\n",
        "\n",
        "            logs = [\n",
        "                    f\"Episode: {episode}\",\n",
        "                    f\"Episode Return: {episode_return}\",\n",
        "                    f\"Average Episode Return: {np.mean(episode_returns[-20:])}\",\n",
        "                    f\"Evaluator Episode Return: {evaluator_episode_return}\"\n",
        "            ]\n",
        "\n",
        "            print(*logs, sep=\"\\t\") # Print the logs\n",
        "\n",
        "    env.close()\n",
        "    eval_env.close()\n",
        "\n",
        "    return episode_returns, evaluator_episode_returns"
      ],
      "metadata": {
        "id": "W0xdmPuE4RRS"
      },
      "execution_count": 12,
      "outputs": []
    },
    {
      "cell_type": "code",
      "source": [
        "#@title Soluction Exercise 2 { display-mode: \"form\" }\n",
        "def run_episode(env):\n",
        "  episode_return = 0 # counter to keep track of rewards\n",
        "  done = False # initially set to False\n",
        "  params = jnp.array([1,-2,2,-1]) # fixed policy parameters\n",
        "\n",
        "  ## YOUR CODE\n",
        "\n",
        "  obs = env.reset() # TODO: get the initial obs from the env\n",
        "\n",
        "  while not done: # loop until episode is done\n",
        "\n",
        "    # HINT: You might need to the convert the action from your policy to a np.array\n",
        "    action = linear_policy(params, obs) # TODO: compute action using linear policy\n",
        "    action = np.array(action) # We need to the convert the action from the policy to a np.array\n",
        "\n",
        "    obs, reward, done, info = env.step(action) # TODO: step the environment\n",
        "\n",
        "    episode_return = episode_return + reward # TODO: add reward to episode return\n",
        "\n",
        "  return episode_return"
      ],
      "metadata": {
        "id": "nzioTM6v4era"
      },
      "execution_count": 13,
      "outputs": []
    },
    {
      "cell_type": "code",
      "source": [
        "# @title Check exercise 2 (run me) { display-mode: \"form\" }\n",
        "\n",
        "try:\n",
        "  env.seed(42)\n",
        "  if run_episode(env) == 31:\n",
        "    print(\"Looks correct!\")\n",
        "  else:\n",
        "    print(\"Looks like your implementation might be wrong.\")\n",
        "except Exception as e:\n",
        "    print(\"An Error Occured: {}\".format(e))"
      ],
      "metadata": {
        "colab": {
          "base_uri": "https://localhost:8080/"
        },
        "id": "Fmd1puPx5bpm",
        "outputId": "7cafb91e-16bb-48cb-f823-d357dee0e7e3"
      },
      "execution_count": 14,
      "outputs": [
        {
          "output_type": "stream",
          "name": "stdout",
          "text": [
            "Looks correct!\n"
          ]
        }
      ]
    },
    {
      "cell_type": "markdown",
      "source": [
        "# **A General Purpose RL Training Loop**"
      ],
      "metadata": {
        "id": "964fss1s5lmc"
      }
    },
    {
      "cell_type": "code",
      "source": [
        "#@title Training loop (run me) { display-mode: \"form\" }\n",
        "\n",
        "# NamedTuple to store transitions\n",
        "Transition = collections.namedtuple(\"Transition\", [\"obs\", \"action\", \"reward\", \"next_obs\", \"done\"])\n",
        "\n",
        "# Training Loop\n",
        "def run_training_loop(env_name, agent_params, agent_select_action_func,\n",
        "    agent_actor_state=None, agent_learn_func=None, agent_learner_state=None,\n",
        "    agent_memory=None, num_episodes=1000, evaluator_period=100,\n",
        "    evaluation_episodes=8, learn_steps_per_episode=1,\n",
        "    train_every_timestep=False, video_subdir=\"\",):\n",
        "    \"\"\"\n",
        "    This function runs several episodes in an environment and periodically does\n",
        "    some agent learning and evaluation.\n",
        "\n",
        "    Args:\n",
        "        env: a gym environment.\n",
        "        agent_params: an object to store parameters that the agent uses.\n",
        "        agent_select_func: a function that does action selection for the agent.\n",
        "        agent_actor_state (optional): an object that stores the internal state\n",
        "            of the agents action selection function.\n",
        "        agent_learn_func (optional): a function that does some learning for the\n",
        "            agent by updating the agent parameters.\n",
        "        agent_learn_state (optional): an object that stores the internal state\n",
        "            of the agent learn function.\n",
        "        agent_memory (optional): an object for storing an retrieving historical\n",
        "            experience.\n",
        "        num_episodes: how many episodes to run.\n",
        "        evaluator_period: how often to run evaluation.\n",
        "        evaluation_episodes: how many evaluation episodes to run.\n",
        "        train_every_timestep: whether to train every timestep rather than at the end\n",
        "            of the episode.\n",
        "        video_subdir: subdirectory to store epsiode recordings.\n",
        "\n",
        "    Returns:\n",
        "        episode_returns: list of all the episode returns.\n",
        "        evaluator_episode_returns: list of all the evaluator episode returns.\n",
        "    \"\"\"\n",
        "\n",
        "    # Setup Cartpole environment and recorder\n",
        "    env = gym.make(env_name, render_mode=\"rgb_array\") # training environment\n",
        "    eval_env = gym.make(env_name, render_mode=\"rgb_array\") # evaluation environment\n",
        "\n",
        "    # Video dir\n",
        "    video_dir = \"./video\"+\"/\"+video_subdir\n",
        "\n",
        "    # Clear video dir\n",
        "    try:\n",
        "      rmtree(video_dir)\n",
        "    except:\n",
        "      pass\n",
        "\n",
        "    # Wrap in recorder\n",
        "    env = RecordVideo(env, video_dir+\"/train\", episode_trigger=lambda x: (x % evaluator_period) == 0)\n",
        "    eval_env = RecordVideo(eval_env, video_dir+\"/eval\", episode_trigger=lambda x: (x % evaluation_episodes) == 0)\n",
        "\n",
        "    # JAX random number generator\n",
        "    rng = hk.PRNGSequence(jax.random.PRNGKey(0))\n",
        "    env.seed(0) # seed environment for reproducability\n",
        "    random.seed(0)\n",
        "\n",
        "    episode_returns = [] # List to store history of episode returns.\n",
        "    evaluator_episode_returns = [] # List to store history of evaluator returns.\n",
        "    timesteps = 0\n",
        "    for episode in range(num_episodes):\n",
        "\n",
        "        # Reset environment.\n",
        "        obs = env.reset()\n",
        "        episode_return = 0\n",
        "        done = False\n",
        "\n",
        "        while not done:\n",
        "\n",
        "            # Agent select action.\n",
        "            action, agent_actor_state = agent_select_action_func(\n",
        "                                            next(rng),\n",
        "                                            agent_params,\n",
        "                                            agent_actor_state,\n",
        "                                            np.array(obs)\n",
        "                                        )\n",
        "\n",
        "            # Step environment.\n",
        "            next_obs, reward, done, _ = env.step(int(action))\n",
        "\n",
        "            # Pack into transition.\n",
        "            transition = Transition(obs, action, reward, next_obs, done)\n",
        "\n",
        "            # Add transition to memory.\n",
        "            if agent_memory: # check if agent has memory\n",
        "              agent_memory.push(transition)\n",
        "\n",
        "            # Add reward to episode return.\n",
        "            episode_return += reward\n",
        "\n",
        "            # Set obs to next obs before next environment step. CRITICAL!!!\n",
        "            obs = next_obs\n",
        "\n",
        "            # Increment timestep counter\n",
        "            timesteps += 1\n",
        "\n",
        "            # Maybe learn every timestep\n",
        "            if train_every_timestep and (timesteps % 4 == 0) and agent_memory and agent_memory.is_ready(): # Make sure memory is ready\n",
        "                # First sample memory and then pass the result to the learn function\n",
        "                memory = agent_memory.sample()\n",
        "                agent_params, agent_learner_state = agent_learn_func(\n",
        "                                                        next(rng),\n",
        "                                                        agent_params,\n",
        "                                                        agent_learner_state,\n",
        "                                                        memory\n",
        "                                                    )\n",
        "\n",
        "        episode_returns.append(episode_return)\n",
        "\n",
        "        # At the end of every episode we do a learn step.\n",
        "        if agent_memory and agent_memory.is_ready(): # Make sure memory is ready\n",
        "\n",
        "            for _ in range(learn_steps_per_episode):\n",
        "                # First sample memory and then pass the result to the learn function\n",
        "                memory = agent_memory.sample()\n",
        "                agent_params, agent_learner_state = agent_learn_func(\n",
        "                                                        next(rng),\n",
        "                                                        agent_params,\n",
        "                                                        agent_learner_state,\n",
        "                                                        memory\n",
        "                                                    )\n",
        "\n",
        "        if (episode % evaluator_period) == 0: # Do evaluation\n",
        "\n",
        "            evaluator_episode_return = 0\n",
        "            for eval_episode in range(evaluation_episodes):\n",
        "                obs = eval_env.reset()\n",
        "                done = False\n",
        "                while not done:\n",
        "                    action, _ = agent_select_action_func(\n",
        "                                    next(rng),\n",
        "                                    agent_params,\n",
        "                                    agent_actor_state,\n",
        "                                    np.array(obs),\n",
        "                                    evaluation=True\n",
        "                                )\n",
        "\n",
        "                    obs, reward, done, _ = eval_env.step(int(action))\n",
        "\n",
        "                    evaluator_episode_return += reward\n",
        "\n",
        "            evaluator_episode_return /= evaluation_episodes\n",
        "\n",
        "            evaluator_episode_returns.append(evaluator_episode_return)\n",
        "\n",
        "            logs = [\n",
        "                    f\"Episode: {episode}\",\n",
        "                    f\"Episode Return: {episode_return}\",\n",
        "                    f\"Average Episode Return: {np.mean(episode_returns[-20:])}\",\n",
        "                    f\"Evaluator Episode Return: {evaluator_episode_return}\"\n",
        "            ]\n",
        "\n",
        "            print(*logs, sep=\"\\t\") # Print the logs\n",
        "\n",
        "    env.close()\n",
        "    eval_env.close()\n",
        "\n",
        "    return episode_returns, evaluator_episode_returns"
      ],
      "metadata": {
        "id": "34jAD8s25f3t"
      },
      "execution_count": 15,
      "outputs": []
    },
    {
      "cell_type": "code",
      "source": [
        "# Parameter container for Random Policy Search\n",
        "RandomPolicySearchParams = collections.namedtuple(\"RandomPolicySearchParams\", [\"current\", \"best\"])\n",
        "\n",
        "# TEST: store two different sets of parameters\n",
        "current_params = np.ones(obs_shape) * -1\n",
        "best_params = np.zeros(obs_shape)\n",
        "rps_params = RandomPolicySearchParams(current_params, best_params)\n",
        "\n",
        "# How to access the best or current params.\n",
        "print(f\"Best params: {rps_params.best}\")\n",
        "print(f\"Current params: {rps_params.current}\")"
      ],
      "metadata": {
        "colab": {
          "base_uri": "https://localhost:8080/"
        },
        "id": "FQjSeZ-b5rx3",
        "outputId": "27f2148e-af64-4ef5-caf5-c4fa790fb125"
      },
      "execution_count": 16,
      "outputs": [
        {
          "output_type": "stream",
          "name": "stdout",
          "text": [
            "Best params: [0. 0. 0. 0.]\n",
            "Current params: [-1. -1. -1. -1.]\n"
          ]
        }
      ]
    },
    {
      "cell_type": "code",
      "source": [
        "#@title Solution exercise 3 {display-mode: \"form\"}\n",
        "\n",
        "def random_policy_search_choose_action(\n",
        "    key,\n",
        "    params,\n",
        "    actor_state,\n",
        "    obs,\n",
        "    evaluation=False\n",
        "):\n",
        "\n",
        "  best_action = linear_policy(params.best, obs)\n",
        "\n",
        "  current_action = linear_policy(params.current, obs)\n",
        "\n",
        "  action = jax.lax.select(\n",
        "      evaluation ,\n",
        "      best_action ,\n",
        "      current_action\n",
        "  )\n",
        "\n",
        "  return action, actor_state"
      ],
      "metadata": {
        "id": "5bSLM5Cs54Zn"
      },
      "execution_count": 17,
      "outputs": []
    },
    {
      "cell_type": "code",
      "source": [
        "# @title Check exercise 3 (run me) {display-mode: \"form\"}\n",
        "\n",
        "def check_random_policy_search_choose_action(choose_action):\n",
        "  key = None # not used\n",
        "  actor_state = None # not used\n",
        "\n",
        "  # obs\n",
        "  obs = np.ones(obs_shape)\n",
        "\n",
        "  evaluation=False\n",
        "  current_params = np.ones(obs_shape) * -1\n",
        "  best_params = np.ones(obs_shape)\n",
        "  rps_params = RandomPolicySearchParams(current_params, best_params)\n",
        "  action, actor_state = choose_action(key,rps_params,actor_state,obs,evaluation)\n",
        "  if action != 0:\n",
        "    return False\n",
        "\n",
        "  evaluation=True\n",
        "  current_params = np.ones(obs_shape) * -1\n",
        "  best_params = np.ones(obs_shape)\n",
        "  rps_params = RandomPolicySearchParams(current_params, best_params)\n",
        "  action, actor_state = choose_action(key,rps_params,actor_state,obs,evaluation)\n",
        "  if action != 1:\n",
        "    return False\n",
        "\n",
        "  return True\n",
        "\n",
        "try:\n",
        "  if check_random_policy_search_choose_action(random_policy_search_choose_action):\n",
        "    print(\"Your function looks correct.\")\n",
        "  else:\n",
        "    print(\"Your function looks incorrect.\")\n",
        "except Exception as e:\n",
        "    print(\"An Error Occured: {}\".format(e))"
      ],
      "metadata": {
        "colab": {
          "base_uri": "https://localhost:8080/"
        },
        "id": "CQ-nxR-x5-VX",
        "outputId": "b1f005eb-cef4-49e9-ee42-827099f7446d"
      },
      "execution_count": 18,
      "outputs": [
        {
          "output_type": "stream",
          "name": "stdout",
          "text": [
            "Your function looks correct.\n"
          ]
        }
      ]
    },
    {
      "cell_type": "markdown",
      "source": [
        "# **RPS agent memory**"
      ],
      "metadata": {
        "id": "xZYHLFbT6Hd5"
      }
    },
    {
      "cell_type": "markdown",
      "source": [
        "# **Average Episode Return Memory**"
      ],
      "metadata": {
        "id": "DaV7fDzw6NS0"
      }
    },
    {
      "cell_type": "code",
      "source": [
        "class AverageEpisodeReturnBuffer:\n",
        "\n",
        "    def __init__(self, num_episodes_to_store=50):\n",
        "        \"\"\"\n",
        "        This class implements an agent memory that stores the average episode\n",
        "        return over the last 50 episodes.\n",
        "        \"\"\"\n",
        "        self.num_episodes_to_store = num_episodes_to_store\n",
        "        self.episode_return_buffer = []\n",
        "        self.current_episode_return = 0\n",
        "\n",
        "    def push(self, transition):\n",
        "        self.current_episode_return += transition.reward\n",
        "\n",
        "        if transition.done: # If the episode is done\n",
        "            # Add episode return to buffer\n",
        "            self.episode_return_buffer.append(self.current_episode_return)\n",
        "\n",
        "            # Reset episode return\n",
        "            self.current_episode_return = 0\n",
        "\n",
        "\n",
        "    def is_ready(self):\n",
        "        return len(self.episode_return_buffer) == self.num_episodes_to_store\n",
        "\n",
        "    def sample(self):\n",
        "        average_episode_return = np.mean(self.episode_return_buffer)\n",
        "\n",
        "        # Clear episode return buffer\n",
        "        self.episode_return_buffer = []\n",
        "\n",
        "        return average_episode_return"
      ],
      "metadata": {
        "id": "pJIdj4-I6C6-"
      },
      "execution_count": 19,
      "outputs": []
    },
    {
      "cell_type": "code",
      "source": [
        "#@title Solution exercise 4 {display-mode: \"form\"}\n",
        "\n",
        "def get_new_random_weights(random_key, old_weights,minval=-2.0,maxval=2.0):\n",
        "    new_weights_shape = old_weights.shape\n",
        "    new_weights_dtype = old_weights.dtype\n",
        "    # Sample new weights\n",
        "    new_weights = jax.random.uniform(random_key,new_weights_shape,new_weights_dtype,minval=minval,\n",
        "                      maxval=maxval)\n",
        "    return new_weights"
      ],
      "metadata": {
        "id": "hPkaGJLY6RNU"
      },
      "execution_count": 20,
      "outputs": []
    },
    {
      "cell_type": "code",
      "source": [
        "# @title Check exercise 4 (run me) {display-mode: \"form\"}\n",
        "\n",
        "def check_get_new_random_weights(get_new_random_weights):\n",
        "  old_weights = np.ones(obs_shape, \"float32\")\n",
        "  random_key = jax.random.PRNGKey(42)\n",
        "\n",
        "  # Case 1\n",
        "  new_weights = get_new_random_weights(random_key, old_weights, minval=-2.0, maxval=2.0)\n",
        "\n",
        "  if jnp.array_equal(new_weights, jnp.array([ 0.29657745,1.4265499, -1.7621555, -1.7505779 ])):\n",
        "    print(\"Function is correct!\")\n",
        "  else:\n",
        "    print(\"Something is wrong.\")\n",
        "\n",
        "try:\n",
        "  check_get_new_random_weights(get_new_random_weights)\n",
        "except Exception as e:\n",
        "    print(\"An Error Occured: {}\".format(e))"
      ],
      "metadata": {
        "colab": {
          "base_uri": "https://localhost:8080/"
        },
        "id": "CbW4dMDI6V8H",
        "outputId": "017a5390-bc0d-46bc-b85a-6af272c0648d"
      },
      "execution_count": 21,
      "outputs": [
        {
          "output_type": "stream",
          "name": "stdout",
          "text": [
            "Function is correct!\n"
          ]
        }
      ]
    },
    {
      "cell_type": "code",
      "source": [
        "# A NamedTuple to store the best average episode return so far\n",
        "RandomPolicyLearnState = collections.namedtuple(\n",
        "  \"RandomPolicyLearnState\",\n",
        "  [\"best_average_episode_return\"]\n",
        ")\n",
        "\n",
        "# Test\n",
        "initial_learn_state = RandomPolicyLearnState(best_average_episode_return=-float(\"inf\"))\n",
        "print(\"Initial best average episode return:\", initial_learn_state.best_average_episode_return)"
      ],
      "metadata": {
        "colab": {
          "base_uri": "https://localhost:8080/"
        },
        "id": "aa8y4JmW6YlL",
        "outputId": "36b98c0e-e4da-4432-f862-67579076d047"
      },
      "execution_count": 22,
      "outputs": [
        {
          "output_type": "stream",
          "name": "stdout",
          "text": [
            "Initial best average episode return: -inf\n"
          ]
        }
      ]
    },
    {
      "cell_type": "code",
      "source": [
        "#@title Solution exercise 5 {display-mode: \"form\"}\n",
        "\n",
        "def random_policy_search_learn(key, params, learn_state, memory):\n",
        "    best_params = params.best\n",
        "    current_params = params.current\n",
        "\n",
        "    current_average_episode_return = memory # the memory contains the average episode return\n",
        "    best_average_episode_return = learn_state.best_average_episode_return\n",
        "\n",
        "\n",
        "    # YOUR CODE\n",
        "\n",
        "    best_params = jax.lax.select(\n",
        "        current_average_episode_return > best_average_episode_return,\n",
        "        current_params,\n",
        "        best_params,\n",
        "    )\n",
        "\n",
        "    best_average_episode_return = jax.lax.select(\n",
        "        current_average_episode_return > best_average_episode_return,\n",
        "        current_average_episode_return,\n",
        "        best_average_episode_return\n",
        "    )\n",
        "\n",
        "    # END YOUR CODE\n",
        "\n",
        "    # Generate new random parameters\n",
        "    new_params = get_new_random_weights(key, current_params)\n",
        "\n",
        "    # Bundle weights in RandomPolicySearchParams NamedTuple\n",
        "    params = RandomPolicySearchParams(current=new_params, best=best_params)\n",
        "\n",
        "    # Update learn_state\n",
        "    learn_state = RandomPolicyLearnState(best_average_episode_return)\n",
        "\n",
        "    return params, learn_state"
      ],
      "metadata": {
        "id": "uwU24YFn7QgI"
      },
      "execution_count": 24,
      "outputs": []
    },
    {
      "cell_type": "code",
      "source": [
        "#@title Check exercise 5 {display-mode: \"form\"}\n",
        "\n",
        "params = RandomPolicySearchParams(np.ones(obs_shape, \"float32\"), np.ones(obs_shape, \"float32\") * -1)\n",
        "learn_state = RandomPolicyLearnState(10)\n",
        "memory = 11\n",
        "key = jax.random.PRNGKey(42)\n",
        "\n",
        "try:\n",
        "  new_params, new_learn_state = random_policy_search_learn(key, params, learn_state, memory)\n",
        "\n",
        "  if not jnp.array_equal(new_params.current, jnp.array([ 0.29657745,  1.4265499 , -1.7621555 , -1.7505779 ])):\n",
        "    print(\"Your function is incorrect.\")\n",
        "\n",
        "  elif not jnp.array_equal(new_params.best, jnp.array([1., 1., 1., 1.])):\n",
        "    print(\"Your function is incorrect.\")\n",
        "\n",
        "  elif new_learn_state.best_average_episode_return != 11:\n",
        "    print(\"Your function is incorrect.\")\n",
        "\n",
        "  else:\n",
        "    print(\"Your function looks correct.\")\n",
        "except Exception as e:\n",
        "    print(\"An Error Occured: {}\".format(e))"
      ],
      "metadata": {
        "colab": {
          "base_uri": "https://localhost:8080/"
        },
        "id": "iChoNiLL7KKf",
        "outputId": "ec795a64-1a58-4464-dbd6-479efadfc2bb"
      },
      "execution_count": 25,
      "outputs": [
        {
          "output_type": "stream",
          "name": "stdout",
          "text": [
            "Your function looks correct.\n"
          ]
        }
      ]
    },
    {
      "cell_type": "code",
      "source": [
        "# JIT the learn and choose action functions\n",
        "random_policy_search_learn_jit = jax.jit(random_policy_search_learn)\n",
        "random_policy_search_choose_action_jit = jax.jit(random_policy_search_choose_action)\n",
        "\n",
        "# Initialise the parameters\n",
        "initial_weights = np.ones(obs_shape, \"float32\")\n",
        "initial_params = RandomPolicySearchParams(initial_weights, initial_weights)\n",
        "\n",
        "# Initialise the learn state\n",
        "initial_learn_state = RandomPolicyLearnState(best_average_episode_return=-float(\"inf\"))\n",
        "\n",
        "# Initialise memory\n",
        "memory = AverageEpisodeReturnBuffer(num_episodes_to_store=50)\n",
        "\n",
        "# Run the training loop\n",
        "print(\"Starting training. This may take up to 5 minutes to complete.\")\n",
        "chex.clear_trace_counter()\n",
        "episode_return, evaluator_episode_returns = run_training_loop(\n",
        "                                        env_name,\n",
        "                                        initial_params,\n",
        "                                        random_policy_search_choose_action_jit,\n",
        "                                        None, # no actor state\n",
        "                                        random_policy_search_learn_jit,\n",
        "                                        initial_learn_state,\n",
        "                                        memory,\n",
        "                                        num_episodes=1001,\n",
        "                                        video_subdir=\"rps\"\n",
        "                                    )\n",
        "\n",
        "# Plot graph of evaluator episode returns\n",
        "plt.plot(np.linspace(0, 1000, len(evaluator_episode_returns)), evaluator_episode_returns)\n",
        "plt.title(\"Random Policy Search\")\n",
        "plt.xlabel(\"Episodes\")\n",
        "plt.ylabel(\"Episode Return\")\n",
        "plt.show()"
      ],
      "metadata": {
        "colab": {
          "base_uri": "https://localhost:8080/",
          "height": 680
        },
        "id": "lf9SbjGk7fNS",
        "outputId": "0a33857a-a062-4b76-a799-eb9821ed9b80"
      },
      "execution_count": 26,
      "outputs": [
        {
          "output_type": "stream",
          "name": "stdout",
          "text": [
            "Starting training. This may take up to 5 minutes to complete.\n",
            "Episode: 0\tEpisode Return: 80.0\tAverage Episode Return: 80.0\tEvaluator Episode Return: 131.5\n",
            "Episode: 100\tEpisode Return: 38.0\tAverage Episode Return: 10.55\tEvaluator Episode Return: 130.75\n",
            "Episode: 200\tEpisode Return: 9.0\tAverage Episode Return: 9.75\tEvaluator Episode Return: 138.0\n",
            "Episode: 300\tEpisode Return: 186.0\tAverage Episode Return: 17.9\tEvaluator Episode Return: 121.0\n",
            "Episode: 400\tEpisode Return: 9.0\tAverage Episode Return: 120.25\tEvaluator Episode Return: 150.625\n",
            "Episode: 500\tEpisode Return: 64.0\tAverage Episode Return: 11.9\tEvaluator Episode Return: 128.0\n",
            "Episode: 600\tEpisode Return: 126.0\tAverage Episode Return: 15.25\tEvaluator Episode Return: 137.375\n",
            "Episode: 700\tEpisode Return: 200.0\tAverage Episode Return: 44.15\tEvaluator Episode Return: 154.0\n",
            "Episode: 800\tEpisode Return: 200.0\tAverage Episode Return: 18.5\tEvaluator Episode Return: 128.0\n",
            "Episode: 900\tEpisode Return: 37.0\tAverage Episode Return: 10.75\tEvaluator Episode Return: 188.375\n",
            "Episode: 1000\tEpisode Return: 9.0\tAverage Episode Return: 101.9\tEvaluator Episode Return: 169.0\n"
          ]
        },
        {
          "output_type": "display_data",
          "data": {
            "text/plain": [
              "<Figure size 640x480 with 1 Axes>"
            ],
            "image/png": "[encoded data removed]"
          },
          "metadata": {}
        }
      ]
    },
    {
      "cell_type": "code",
      "source": [
        "#@title Visualise Policy {display-mode: \"form\"}\n",
        "#@markdown Choose an episode number that is a multiple of 100 and less than or equal to 2000, and **run** this cell.\n",
        "episode_number = 0 #@param {type:\"number\"}\n",
        "\n",
        "assert (episode_number % 100) == 0, \"Episode number must be a multiple of 100 since we only record every 100th episode.\"\n",
        "assert episode_number < 1001, \"Episode number must be less than or equal to 2000\"\n",
        "\n",
        "eval_episode_number = int(episode_number / 100 * 8)\n",
        "video_path = f\"./video/rps/eval/rl-video-episode-{eval_episode_number}.mp4\"\n",
        "\n",
        "mp4 = open(video_path,'rb').read()\n",
        "data_url = \"data:video/mp4;base64,\" + b64encode(mp4).decode()\n",
        "HTML(\"\"\"\n",
        "<video width=400 controls>\n",
        "      <source src=\"%s\" type=\"video/mp4\">\n",
        "</video>\n",
        "\"\"\" % data_url)"
      ],
      "metadata": {
        "colab": {
          "base_uri": "https://localhost:8080/",
          "height": 288
        },
        "id": "sGmglJT37nw-",
        "outputId": "56a23c28-e198-4b88-a28b-fd40152044da"
      },
      "execution_count": 27,
      "outputs": [
        {
          "output_type": "execute_result",
          "data": {
            "text/plain": [
              "<IPython.core.display.HTML object>"
            ],
            "text/html": [
              "\n",
              "<video width=400 controls>\n",
              "      <source src=\"data:video/mp4;base64,AAAAIGZ0eXBpc29tAAACAGlzb21pc28yYXZjMW1wNDEAAAAIZnJlZQAAHNRtZGF0AAACrgYF//+q3EXpvebZSLeWLNgg2SPu73gyNjQgLSBjb3JlIDE2MyByMzA2MCA1ZGI2YWE2IC0gSC4yNjQvTVBFRy00IEFWQyBjb2RlYyAtIENvcHlsZWZ0IDIwMDMtMjAyMSAtIGh0dHA6Ly93d3cudmlkZW9sYW4ub3JnL3gyNjQuaHRtbCAtIG9wdGlvbnM6IGNhYmFjPTEgcmVmPTMgZGVibG9jaz0xOjA6MCBhbmFseXNlPTB4MzoweDExMyBtZT1oZXggc3VibWU9NyBwc3k9MSBwc3lfcmQ9MS4wMDowLjAwIG1peGVkX3JlZj0xIG1lX3JhbmdlPTE2IGNocm9tYV9tZT0xIHRyZWxsaXM9MSA4eDhkY3Q9MSBjcW09MCBkZWFkem9uZT0yMSwxMSBmYXN0X3Bza2lwPTEgY2hyb21hX3FwX29mZnNldD0tMiB0aHJlYWRzPTMgbG9va2FoZWFkX3RocmVhZHM9MSBzbGljZWRfdGhyZWFkcz0wIG5yPTAgZGVjaW1hdGU9MSBpbnRlcmxhY2VkPTAgYmx1cmF5X2NvbXBhdD0wIGNvbnN0cmFpbmVkX2ludHJhPTAgYmZyYW1lcz0zIGJfcHlyYW1pZD0yIGJfYWRhcHQ9MSBiX2JpYXM9MCBkaXJlY3Q9MSB3ZWlnaHRiPTEgb3Blbl9nb3A9MCB3ZWlnaHRwPTIga2V5aW50PTI1MCBrZXlpbnRfbWluPTI1IHNjZW5lY3V0PTQwIGludHJhX3JlZnJlc2g9MCByY19sb29rYWhlYWQ9NDAgcmM9Y3JmIG1idHJlZT0xIGNyZj0yMy4wIHFjb21wPTAuNjAgcXBtaW49MCBxcG1heD02OSBxcHN0ZXA9NCBpcF9yYXRpbz0xLjQwIGFxPTE6MS4wMACAAAAByWWIhAAv//72rvzLK0cLlS4dWXuzUfLoSXL9iDB9aAAAAwAAAwAAJuKiZ0WFMeJsgAAALmAIWElDyDzETFWKgSvGXyxSICACiHL/C5Gi24w4Xj7tZtEKsEpV4sBgYtjQ05bp7VupuiZegKa+gdLufXiuPic95NbE8QdO1GFvrZ7nuIsrY/6uvcEInOvNiFcM4PNCYd5qliHv8INQfe39+CeE07gkFzhDSi1ToveeXYDcrgC0Mn9TBeNIBlYF6O8+/XEbkO6WHPGFNigfMpwDOEc1z9J1vQdwgAYAXuugJ8gyK8etNNJGovtiHzoK0VvWJ1MD/JzbtlTVhz2o9BdfmIyoodcT+Qg5wCPOA6IOpxb3fRUb4Xl2BhaACcIwFn56Tdb0bkveruyL3QaDa4mAhKgtrm7zNAwcZy4/vKebekKncEUrx2ivmKrWfy8NdMX5IJgBSM8EhFMX4Odcj9+oV0sDuf8y5TMk/6ocWZoi/hzG5XvUxmf4dKfl17+qJzNKBuF+qipRxWYIBc/DMs//npasZjhgEknnwhknv2/BHk09vswCFlFG66/PNihxvGmwJOymED4OLe8+4p67ysAbQqBAAAADAAADA4sAAABzQZokbEL//oywAAAar0cHM6b0eWL2qNQOD3HngAy73hLcEhxjMPiqRvoOIrHoW5Cjyz3d5P2LCs9tCW3wsRs48y4iO/+AP5KFDedQ8jRLm33x0a2mWsdcdWE5vi36CKD9rFP1OQgSZ6QHZ9/qimYk/3KNUAAAADNBnkJ4hH8AAAho4TkPrdJ/j1T6KwBfSHZ050rbqypI80qu9bMrWK/jPaXTAN918cZX03EAAAAiAZ5hdEf/AAANheuIr3jdZQ2DwVwrr7PAO6lj/9BjxS8bgAAAACwBnmNqR/8AAAUfqSJFCWvzJzqASVbMDg9LSpNUgdsryvBJKGLK07SrvX/7YQAAAExBmmZJqEFomUwU8L/+jLAAABoPRwghzf4tNppiTdojyK+wcXDTM8HXfeADS/+J9Y7zSVmkOdczLlQQzTiYFDnKEkxqs3tBt88qCDYpAAAAHQGehWpH/wAABR0/mzxSYI4CYOQaA3OyOhWSGhbNAAAAeEGah0nhClJlMCGf/p4QAAAaUVu6uJAIu569ALIHd3WJL2nY2T0VnylGbY+i/Anqe0TJFOnbooQUSy6j4p02/Uks68MJdSROML2fNoI04v5tgGw3kGVe60+Y7W7tE/oYHvoUX6wifn/h7z7yNZXVBNx5Y39A3oXOHwAAAKNBmqtJ4Q6JlMCF//6MsAAAGqFkPDYAbmrwOMDjR+OhlER2bAynKB9dBd8Fbv6qfqZj5CGETJfF31fh6TDfgXtiQuA1gFub4tE1gy5ER7t+BSHg9EisnaObXBmZ3G6n8OsSf1we+SgI4CpOt/n6CC/dqdPqyB13CAb/Ug1tnmNKISt+11fS/03ADya/AqE9qCWkE8aFD/nCmMR6SnQpuzrSI07HAAAAOUGeyUURPCP/AAAIZ5W3pmNCN6UlXRdQLbFxHCHpQggF+fmCV5i4M0ORiVepRRbsk17OANLhlBTUgAAAACsBnuh0R/8AAAUaH/uBsw46TdoD318R0O4Z+107ecSs1qglDDnbWXAiiltfAAAANQGe6mpH/wAADYWCf9FotB1ABW9Ls3Ya4b1r1xVTZBpYIG1PKttm2Zev61+Pqdruz8Mkgu9wAAAAp0Ga70moQWiZTAhf//6MsAAARiZY3AoEAGxeTf/4BbAqB84jSwvv0hkgzwVT6g0NvNqQLPFAGemogti3T5Dxnpg8K7HyBOWyFR6Ld0yHyQANFr9wyo7TNSdFeGWyaVZBX8CJRERsQykZ+j2jm03lCJ2OzBB+xDYafjs7Ei342QrBYRPh6zYPURb+wWz/WoLDQqtovUlDjArGKiLwJ2saM8TMzCr+16kBAAAAR0GfDUURLCP/AAAWvE3GQEd1/BeEQJHl2AriBFQAoU6Bhd6KfkNCmHIrZFGaeeuuruukJgBarVychUeCdq2nGlrInimRnBFhAAAALAGfLHRH/wAABUSMQw2pdIlZEdP3V1KcO6as1coaNysaNIjeO38PCUXaT3uBAAAAJgGfLmpH/wAAI64zCAaYX0ES5oQJaxcXA35ID+rbxCKIJeytcHuBAAAAUEGbMUmoQWyZTBRMM//+nhAAABpxvcOLzoBJShivqE3bXZkRgg30Ua/ffS+FmAOEdHhMkEmWQDFSNxdYhZ8ZRH0GogB+B6Y93pEN7yhvgU+GAAAAGwGfUGpH/wAADX/bh16ieBBK1YAcooQ48tFB7gAAAFRBm1VJ4QpSZTAhn/6eEAAAGlkY3l44evBCTf6EGpWHRthEz6bkE4h+wzbEKdcI8h9zCugAmeubDZSgwVk+l4zlaCNcnRul6DzaoxQkKRmaKbIK50cAAAAjQZ9zRTRMI/8AAAMDTE1m7WtL1xRmoKPbpzm9ArBcGiL5zaAAAAAeAZ+SdEf/AAANfu8oKpu3TjXwXouG8jOpmAw+SFa8AAAAFgGflGpH/wAAAwAKgpvpjtN1HjK/PLEAAABFQZuZSahBaJlMCF///oywAABGAvf5jJXa2v7T08X8nKqAugho1wwkEykcYFcbBd/qAyTMFA9lfAANVCvUd/uZbBmGL5T3AAAAMEGft0URLCP/AAAWtVizTe1DI5P7RsNDnIxa5NZKzBowaWorX26U3NOC8JogabDa8QAAAB4Bn9Z0R/8AACPDOkCXErw2NjgHoYulUGl5A48ExN0AAAAkAZ/Yakf/AAAFQ7Pq/1JH2t8C1gqRifng1v9o6bVBfyUHJEWpAAAAWUGb3UmoQWyZTAhf//6MsAAARhRdWJmTbCiTXwhx/pTy9y7Pi0tR3KriACgy8PMEAysO6NJNc28JLBPRUizFhu/L65OVGg2OVJDu7OOu3dMu+POeBpmOQxJBAAAANEGf+0UVLCP/AAAWvE4CkQZN1fJXeQ42RILphzt8Zgfq9iJB48t2YmCLSyejK/SiA92zOvAAAAAbAZ4adEf/AAAFH9HjgGmqmAJqA4ZjAIHKiHuBAAAANgGeHGpH/wAAI78Z3ZAeoN8WDCRFxI4AHbiO6e+4tMTsgk+YKdIzJ3I0AAE1tdaWBs4FoNbrUwAAAH9BmgFJqEFsmUwIX//+jLAAAEYr/+VgCf7BxBqm0NAldBU/L2kMF+zIZX3Usv/lfAUQUyiARHL8CmZ6W6hwt/0EjQSzk6JjP4oJ6X5xYNFO9CnNqbk7XbzjBM39hGmYiYOI5LlmTzz/45BfroFW7Nu42R3mYu+1EBF+taFtygzIAAAAQkGeP0UVLCP/AAAWtV9MWlMjKyonBunNi81LFbys88z6JvmfHBgZFB2NXmWLAAuFq5bO2w+1hO7jszoJaXNbDEhJgAAAAC0Bnl50R/8AACOsO5SqeJ1bwyLBhi46ockNM8oadXbZllL8IAYY/wmglJKOB7kAAAA1AZ5Aakf/AAAN1J946ZGGPtYS9V7IrSVQ3UUYruCuWHahTRWu1TzAzTj77UEz8P1n8L+9EYAAAABdQZpCSahBbJlMCF///oywAAAbT1vAI1rp8CLuKATeOKX1uRy+VATR1FFdP6hp3z/GlzWiYfS7Kx8AYUPN8tOXvTBeBZLhF7wQ5qIRMLt3qZli0gATRCGDDHQBitfZAAAAwUGaZknhClJlMCF//oywAABGAvZe+pD3P7zgDEQoIC0hZPwbdWf9EsKrrzCL3ye7D9R3zoEjE/YaohIMKWNRh/SGGE/Y1XwpEPOLl0Qq73ZFKOqTZJyrAhuZuhRWmGfZ+FN/mT9pFaL3sBI1zD/RSa5T7BAFz6Oiu6OjbNx96wxoWB+uxm+YXK3DsFS1g98/CAgYWCqRiaulgp6kCqMrZhw/oWwrDrSc8xj3HzOnZ7Til97D4GEG24fcVoo7qBAYN8gAAABCQZ6ERTRMI/8AABa1VZxBP0NeDO4hzZPLCT5a7nP8tjWP6AFh1jWPJ2K+FzgEtOnM8RHd6ymhHKSTFhVhhjQHQj8nAAAALAGeo3RH/wAAI8MXYq9dzfOACP6BWdziFNeBjXo0iSYCDebC0iYNz0BmS7ARAAAAJgGepWpH/wAADYSdgOPaAFPHEjBOmDqVctnBr3B4lHfxkQAm1pUrAAAAxEGaqkmoQWiZTAhf//6MsAAARi8LQ1gE19f0y2YkzazNA1D+w10lI7Pn/HPSjJx/9RG6hlx3Ueo2EqxVGU2IMvXfod6PxW+J3D7HXL32eBUHp0HglPVuEwq1z3qBq6rE8xU7UImfZAge7m+RIrlC2xbDGd1Ryg85FamtKm04QVAPkOAvwmD18CROSHB8HqvWI/45qhtyeq3vPLo65lorfc3KnkZd7ENJTi09TT/LRw/OJfXv1c4o41w1vEGuU/s/uSs6GYEAAABJQZ7IRREsI/8AABa8TIZmKRZM8GgS8lPl2CB6MVkenrByPU3Hlicm+MFCqG+ESHAEyF0zttbWd3PteINSDhgycHxV4fnWrVVtwAAAADYBnud0R/8AAA2HttvatVVEcjayuDsIDazTIyIfzvEn3+JXZN4YcD6Kvo6FHXE6zMzIz0KTeDAAAABEAZ7pakf/AAAjscwQK0DqwR6R7Q/ls5Iq/ZwD0kV7w9LLudVjAmHmwyk3qxW8VmMT0YGMAFqf+DHAJC6kxDAFTb+HvBkAAAB4QZrrSahBbJlMCGf//p4QAABDTqRJZBo2G3zls+JJSD6oesRxXtRtyYidAKYIgTKX2JFTBe6agBbebZ8doZ7Psxu752odYkDpvXc1Py758K9j0f8/RBsltzDDt24GX/IxbetUialHuTZewV8RecwMyX3ZqmiZ3Q3jAAAAtEGbD0nhClJlMCGf/p4QAABFbYCdA4AFhA6bYUR5SYeq/MrvT4d/bZm8E+vkfvtF3PlBIxWqM9k62Nf0BHieBja8orRtwe9WrJGSWmtpElBAvCWO3ymliF6jrIJl048JUN2zPqPywz/8Xq6lZRt5YdutrHSIu823vP23f4h+PO4jrP1SSk50VnUOlTkQMK2kaCqXXPem/3ocRVI9bSLSW2fW6zPyQX2XaFqQ+0EDK6aMTk9d/AAAAE5Bny1FNEwj/wAAFrxNYKL8+nz8+tXEpaOdJew5o4MmLjlfP+sLu9HUtOmxjFi+Z4egrcaovkoAJYXE0SUHGQHfjdZZgIRGxsJAgjlUx8EAAAAxAZ9MdEf/AAAFIJISHGCL0t6BWXPUJaIijcyQ/e9lm2BWAXYgXt2LgXbW1epE8S/rewAAADkBn05qR/8AACOyO8dI6uo+bI0g8HLhnS5smR4s9rSjGajBhO1t+9TGdE4ZqngBL9SX561KzCzj48sAAABtQZtTSahBaJlMCGf//p4QAABFU7CUgBVVhI1Hwns86XazBhk9OUsjbUx53D7Y7fTNpXiV0YyvyiMVOxDVykSw/3eHwIu4y65N/rPjTvh30RVpXA08scmJ/+HpoOfmZTPXxloFXTY0a+otIZPyWQAAADtBn3FFESwj/wAAFrVe8rOu6fGjA36QDzrQZTuY3ieN21ij3YefrYJfZNfUAJRCRH+M5TfTbd5emWuuCAAAACUBn5B0R/8AACPDRoL30QG/lKa3LgCuNiJWzeuh1+qCB+eUsIWBAAAAGAGfkmpH/wAADS/bh4wejmdLRmqOYDKikgAAAGZBm5dJqEFsmUwIZ//+nhAAAEVVFUxg9N74JX2gzcxr6D1uB/dU7xuhMXZwRjVYNuKADkwerOGh4rd6lrrMiRJw5WkBrLj0UUC/02Yg+BkKp2AthPRI+2+wR75BmKpd523sj+zznEEAAAAuQZ+1RRUsI/8AABa8TkfbPyc0WECvnboxmfaRYx4ppbee+YK3y6yjAxGjcaC3KwAAABwBn9R0R/8AAA1+FZ+dvRV6wE1jCKABgC4Ng/FgAAAAQAGf1mpH/wAAI7HfP49rM2GWiB/nsDMVTqeSaFFWm7wDpCboLQr2UvAyR8AJpnzCBlUF57omTtF45I1yKhVz29EAAACWQZvbSahBbJlMCF///oywAABGXNKZsjsw4CJqnGP1bfewVbfl/B9eVD0YAPx5FhzqfoAixFLiVkoAJ23v28ToeTXsWez8/1EiVGpY9RwUXKGtpv7++WxKwKhXMVczVlXMldydmbWP/hrvJVpEqBavOX7rDEqwMNrkIpUIkH+YKihjZTzCYSzvxQFQwM4zhTkpGgo+C/OhAAAAUEGf+UUVLCP/AAAWtSs5dRVV4nLyILkJzC6vqsa62/wcGHwDDmHEhXST/aDrHKQ9DSTR4CzZFMq37yRpr/0LSoASlVj/1utzC5ORlrn/E4LAAAAAKwGeGHRH/wAAI8MdK8VRXs60KeQQaJZ8pnZxcuTp7cbf1sdCbKIh1k0j/5UAAAA8AZ4aakf/AAANMlQkjW2enDY7Tr0TuQ3iCkmXu5Kg+8wMaxfJfzGEs07qnaec1du1Fg0AMSvI2rqFsE2AAAAAgkGaH0moQWyZTAhf//6MsAAARi8l92AK3mxLcw4vexFvi4T3bxICeT6035i9ZM3NOEz6LvVftbPhD1POhUEHzFWqT6xHVfxSdZaqU5a9DVOKUMoxR1e4bZDxJNBprB6EhvaOwqBKxsLfIBQ6T6bJnpZEA45rq8S8Ytwgo00Hg3B0APUAAABfQZ49RRUsI/8AABa8TbdxDcdPBgFOoNCPJGEGzTYnIZHeomNa8BWgqmNMoYwCae8wx64FemUHObshJLk39mHEpwM7n7Fy0cwfh/bOBCfPsgZn+fHP/gOERPbShV6G2zEAAAA8AZ5cdEf/AAANf1xsU42/vEZ2XPX9uB4EW+b49mq6Uw8fC/vGoVzbqlfSgti4/YBz3EMO/iJ8TEAopnbgAAAAPAGeXmpH/wAAI7InubMVxtvUdW/WUz1LMtzTAwWBksXbNtt+1o7DncADZ78YjCnizdKsldrPYsfOG45eDAAAALpBmkJJqEFsmUwIX//+jLAAABtPWyQNGFMSAKwhwmXIyhFx2opr8c9ovkQSmpRW+Yu26xpkGNSTnOotSf/tgOon2/hFgVfZqGc0c04HwIqkH90JDnYeUoFMXVD0sm+4J9PkjDKnwNpI6AVvWHKtOlfDloMEk92G1qyTxdMCApmlunodmCZKoaDnPczazXul1gfbWYDBxATXRrPTQ7MEsMmJF/WKiv8yne8a5YTZ9SUYCdyy6y0b/yjtg/0AAAA9QZ5gRRUsI/8AAAhhuBoCtgyAhojXs+/TRi/TvWjEjUHm9l/6inkqaJ1VGXz3ym8UM4rwxpgmaFCcFH8O2AAAADEBnoFqR/8AAA1kJ3XKyR9wPNogZbUV8USy5tORRl5eRIWDOEXyQ9pPTzI9lM4gnuVBAAAAuUGahkmoQWyZTAhf//6MsAAARiWGW2bbgAe9foAhFrRFqt6yTE0KFv5vLKOuar4/ca777H51LAU7m+6osWv82sC4IYnSzLdvsSOuynps9QOYkgtjDBO+GVg4sHv5jNoXx+kifiXC2jKcrIhKI2x/o4/wKm2P90001pwiWh/aRW4q9obLBOBdq/8sPs6C1NuJ+8ozsWTNh0lLuWghdtEHP8UCRmI3vFyy2yLStcM6YUTv/pTmdr/DXRvgAAAAXkGepEUVLCP/AAAWpHjwpNLrUjbcSW7V9JrD0xSF7ZRb0NUTlnM7gEu3i3s2ojg8A8rIxiSkWfOm0p0pUvNAB/NpwVBkLJAFtdJ2RZucDo090y4D6Dy6hknQP5zx+pEAAAA3AZ7DdEf/AAAjwz6XTnBIDgBUXGUEgkzEoxJc1K85yJqc/wt0okXMipv2ly5RDjBC8t+zW07vcQAAADYBnsVqR/8AACOyJ8r/W0W1gNXvZnyqeaRtE690h9ieqNLBqqRclzA4VuQHe+Q9CsBUhsLvakEAAAClQZrJSahBbJlMCFf//jhAAAEM+33Qtav2uBAA4wtN8sFOJpMfia+/l3Vtf/AW16uX1or08h7Zsg0Jwf9I9VZ9qooDrW3I2t4shzY5OMxVmsOD9jcbIU/oWJz3zysVpcXNkD417qIMn/kpin4KxgIQQA2GlX9B/Nxuf+NhBW+49fgAAHZ7ZqZXX9gAegXEh2RBOYKcOWnVl4UYGUNXZCvHZwQPxLohAAAAW0Ge50UVLCP/AAAWvE23fyVnud0ceWzttzJhJGJrhALrubtMZ3XtnlWnA9KA3/IiKMDKomoNdfaNaz4qBITkMnLMp9TTt0AI8C+oavqZFi0x/ABqfA85c8q8XuAAAABCAZ8Iakf/AAAjmjFue9+wF2r2xVMRMLIchuFEbIuHR2bgIkyBzkLqqXJSx0TUBttpAWLt3k36bMerMNOved6hOLfcAAAAkUGbDUmoQWyZTAhH//3hAAAEFub0BIOrE7yGrugQezioO5o1ZBEH/ZcAAWVKa7oLeVGKku7jIWKhU/FPi7UxMF/sDtzZkhhObHg9GNkoOoGBoDFwra19jEdJ5SaRU8UNZ5a914axSYV31cgqM7ovuO9Iko9cbqV8o+laSH65fu9zfdbH7efO1O58sYP8aF55w4EAAABTQZ8rRRUsI/8AABalItH3zZ5WeceHpd7netsmquONZvs2T9tsKgj7YQ3Lm1O7c3iYwWnV695wD/jldthbAC2V2IeUftF3wCCP0ba+P6oh7ITHUmAAAAAvAZ9KdEf/AAAjrDkHbs2Rxi6M/vt8Gz5/13XJF40aZPby5uufIUygA+9qKWal3dYAAAA0AZ9Makf/AAAjku4P2+HvkMuo3dz/XGMe7wVlBK55u/Q5mYoxWNE081Fv4gnDzQAyO40HaQAAAClBm05JqEFsmUwI//yEAAADANyyxLSoGSJUGUw1FDcAx8Ap61M77+9xwQAABs9tb292AAAAbG12aGQAAAAAAAAAAAAAAAAAAAPoAAAGLAABAAABAAAAAAAAAAAAAAAAAQAAAAAAAAAAAAAAAAAAAAEAAAAAAAAAAAAAAAAAAEAAAAAAAAAAAAAAAAAAAAAAAAAAAAAAAAAAAAAAAAACAAAF+XRyYWsAAABcdGtoZAAAAAMAAAAAAAAAAAAAAAEAAAAAAAAGLAAAAAAAAAAAAAAAAAAAAAAAAQAAAAAAAAAAAAAAAAAAAAEAAAAAAAAAAAAAAAAAAEAAAAACWAAAAZAAAAAAACRlZHRzAAAAHGVsc3QAAAAAAAAAAQAABiwAAAIAAAEAAAAABXFtZGlhAAAAIG1kaGQAAAAAAAAAAAAAAAAAADIAAABPAFXEAAAAAAAtaGRscgAAAAAAAAAAdmlkZQAAAAAAAAAAAAAAAFZpZGVvSGFuZGxlcgAAAAUcbWluZgAAABR2bWhkAAAAAQAAAAAAAAAAAAAAJGRpbmYAAAAcZHJlZgAAAAAAAAABAAAADHVybCAAAAABAAAE3HN0YmwAAACwc3RzZAAAAAAAAAABAAAAoGF2YzEAAAAAAAAAAQAAAAAAAAAAAAAAAAAAAAACWAGQAEgAAABIAAAAAAAAAAEAAAAAAAAAAAAAAAAAAAAAAAAAAAAAAAAAAAAAAAAAAAAY//8AAAA2YXZjQwFkAB//4QAZZ2QAH6zZQJgz5eEAAAMAAQAAAwBkDxgxlgEABmjr48siwP34+AAAAAAUYnRydAAAAAAAAJHOAACRzgAAABhzdHRzAAAAAAAAAAEAAABPAAABAAAAABRzdHNzAAAAAAAAAAEAAAABAAACeGN0dHMAAAAAAAAATQAAAAEAAAIAAAAAAQAABQAAAAABAAACAAAAAAEAAAAAAAAAAQAAAQAAAAABAAADAAAAAAEAAAEAAAAAAQAAAgAAAAABAAAFAAAAAAEAAAIAAAAAAQAAAAAAAAABAAABAAAAAAEAAAUAAAAAAQAAAgAAAAABAAAAAAAAAAEAAAEAAAAAAQAAAwAAAAABAAABAAAAAAEAAAUAAAAAAQAAAgAAAAABAAAAAAAAAAEAAAEAAAAAAQAABQAAAAABAAACAAAAAAEAAAAAAAAAAQAAAQAAAAABAAAFAAAAAAEAAAIAAAAAAQAAAAAAAAABAAABAAAAAAEAAAUAAAAAAQAAAgAAAAABAAAAAAAAAAEAAAEAAAAAAQAAAgAAAAABAAAFAAAAAAEAAAIAAAAAAQAAAAAAAAABAAABAAAAAAEAAAUAAAAAAQAAAgAAAAABAAAAAAAAAAEAAAEAAAAAAQAAAgAAAAABAAAFAAAAAAEAAAIAAAAAAQAAAAAAAAABAAABAAAAAAEAAAUAAAAAAQAAAgAAAAABAAAAAAAAAAEAAAEAAAAAAQAABQAAAAABAAACAAAAAAEAAAAAAAAAAQAAAQAAAAABAAAFAAAAAAEAAAIAAAAAAQAAAAAAAAABAAABAAAAAAEAAAUAAAAAAQAAAgAAAAABAAAAAAAAAAEAAAEAAAAAAQAABAAAAAACAAABAAAAAAEAAAUAAAAAAQAAAgAAAAABAAAAAAAAAAEAAAEAAAAAAQAABAAAAAACAAABAAAAAAEAAAUAAAAAAQAAAgAAAAABAAAAAAAAAAEAAAEAAAAAAQAAAgAAAAAcc3RzYwAAAAAAAAABAAAAAQAAAE8AAAABAAABUHN0c3oAAAAAAAAAAAAAAE8AAAR/AAAAdwAAADcAAAAmAAAAMAAAAFAAAAAhAAAAfAAAAKcAAAA9AAAALwAAADkAAACrAAAASwAAADAAAAAqAAAAVAAAAB8AAABYAAAAJwAAACIAAAAaAAAASQAAADQAAAAiAAAAKAAAAF0AAAA4AAAAHwAAADoAAACDAAAARgAAADEAAAA5AAAAYQAAAMUAAABGAAAAMAAAACoAAADIAAAATQAAADoAAABIAAAAfAAAALgAAABSAAAANQAAAD0AAABxAAAAPwAAACkAAAAcAAAAagAAADIAAAAgAAAARAAAAJoAAABUAAAALwAAAEAAAACGAAAAYwAAAEAAAABAAAAAvgAAAEEAAAA1AAAAvQAAAGIAAAA7AAAAOgAAAKkAAABfAAAARgAAAJUAAABXAAAAMwAAADgAAAAtAAAAFHN0Y28AAAAAAAAAAQAAADAAAABidWR0YQAAAFptZXRhAAAAAAAAACFoZGxyAAAAAAAAAABtZGlyYXBwbAAAAAAAAAAAAAAAAC1pbHN0AAAAJal0b28AAAAdZGF0YQAAAAEAAAAATGF2ZjU4Ljc2LjEwMA==\" type=\"video/mp4\">\n",
              "</video>\n"
            ]
          },
          "metadata": {},
          "execution_count": 27
        }
      ]
    },
    {
      "cell_type": "markdown",
      "source": [
        "**Policy Gradients (PG)**"
      ],
      "metadata": {
        "id": "IYVjjvO99CQ_"
      }
    },
    {
      "cell_type": "markdown",
      "source": [
        "**REINFORCE**"
      ],
      "metadata": {
        "id": "HQYuZMr_9GGF"
      }
    },
    {
      "cell_type": "code",
      "source": [
        "# Solution exercise 6 {display-mode: \"form\"}\n",
        "\n",
        "def compute_weighted_log_prob(action_prob, episode_return):\n",
        "\n",
        "    # YOUR CODE\n",
        "\n",
        "    log_prob = jax.numpy.log(action_prob)\n",
        "\n",
        "    weighted_log_prob = log_prob * episode_return\n",
        "\n",
        "    # END YOUR CODE\n",
        "\n",
        "    return weighted_log_prob"
      ],
      "metadata": {
        "id": "wW37sZNR89LL"
      },
      "execution_count": 28,
      "outputs": []
    },
    {
      "cell_type": "code",
      "source": [
        "#Check exercise 6 {display-mode: \"form\"}\n",
        "\n",
        "try:\n",
        "  action_prob = 0.8\n",
        "  episode_return = 100\n",
        "  result = compute_weighted_log_prob(action_prob, episode_return)\n",
        "  if result != -22.314354:\n",
        "    print(\"Your implementation looks incorrect.\")\n",
        "  else:\n",
        "    print(\"Looks correct.\")\n",
        "except Exception as e:\n",
        "    print(\"An Error Occured: {}\".format(e))"
      ],
      "metadata": {
        "colab": {
          "base_uri": "https://localhost:8080/"
        },
        "id": "4HNjSj8r9LQq",
        "outputId": "4823d045-ce26-4c51-b4be-6dbb6e7a2df1"
      },
      "execution_count": 29,
      "outputs": [
        {
          "output_type": "stream",
          "name": "stdout",
          "text": [
            "Looks correct.\n"
          ]
        }
      ]
    },
    {
      "cell_type": "markdown",
      "source": [
        "# **Rewards-to-go**"
      ],
      "metadata": {
        "id": "-ceSCgl59WAh"
      }
    },
    {
      "cell_type": "code",
      "source": [
        "# Solution exercise 7 {display-mode: \"form\"}\n",
        "\n",
        "def compute_rewards_to_go(rewards):\n",
        "    rewards_to_go = []\n",
        "    for i in range(len(rewards)):\n",
        "        r2g = 0\n",
        "        for j in range(i, len(rewards)):\n",
        "            r2g += rewards[j]\n",
        "        rewards_to_go.append(r2g)\n",
        "    return rewards_to_go"
      ],
      "metadata": {
        "id": "9a0JAAT79Nmm"
      },
      "execution_count": 30,
      "outputs": []
    },
    {
      "cell_type": "code",
      "source": [
        "#@ Check exercise 7 {display-mode: \"form\"}\n",
        "\n",
        "try:\n",
        "  result = compute_rewards_to_go([1,2,3,4])\n",
        "\n",
        "  if result != [10, 9, 7, 4]:\n",
        "    print(\"There is a problem with your implementation.\")\n",
        "  else:\n",
        "    print(\"Looks correct.\")\n",
        "except Exception as e:\n",
        "    print(\"An Error Occured: {}\".format(e))"
      ],
      "metadata": {
        "colab": {
          "base_uri": "https://localhost:8080/"
        },
        "id": "YlctvpKJ9a4D",
        "outputId": "f39d8688-20be-4eea-ec99-91eef465bffd"
      },
      "execution_count": 31,
      "outputs": [
        {
          "output_type": "stream",
          "name": "stdout",
          "text": [
            "Looks correct.\n"
          ]
        }
      ]
    },
    {
      "cell_type": "code",
      "source": [
        "#Solution exercise 7 {display-mode: \"form\"}\n",
        "\n",
        "def compute_rewards_to_go(rewards):\n",
        "    rewards_to_go = []\n",
        "    for i in range(len(rewards)):\n",
        "        r2g = 0\n",
        "        for j in range(i, len(rewards)):\n",
        "            r2g += rewards[j]\n",
        "        rewards_to_go.append(r2g)\n",
        "    return rewards_to_go"
      ],
      "metadata": {
        "id": "gZ7u6eIi9eBm"
      },
      "execution_count": 32,
      "outputs": []
    },
    {
      "cell_type": "code",
      "source": [
        "# Check exercise 7 {display-mode: \"form\"}\n",
        "\n",
        "try:\n",
        "  result = compute_rewards_to_go([1,2,3,4])\n",
        "\n",
        "  if result != [10, 9, 7, 4]:\n",
        "    print(\"There is a problem with your implementation.\")\n",
        "  else:\n",
        "    print(\"Looks correct.\")\n",
        "except Exception as e:\n",
        "    print(\"An Error Occured: {}\".format(e))"
      ],
      "metadata": {
        "colab": {
          "base_uri": "https://localhost:8080/"
        },
        "id": "Psl9YKQN9iI9",
        "outputId": "cec3c988-9e0e-461a-9b0d-2645ba0031bd"
      },
      "execution_count": 33,
      "outputs": [
        {
          "output_type": "stream",
          "name": "stdout",
          "text": [
            "Looks correct.\n"
          ]
        }
      ]
    },
    {
      "cell_type": "markdown",
      "source": [
        "# **REINFORCE memory**"
      ],
      "metadata": {
        "id": "_PSpLgAQ9w-5"
      }
    },
    {
      "cell_type": "code",
      "source": [
        "# @title Memory implementation (run me) {display-mode: \"form\"}\n",
        "\n",
        "# NamedTuple to store memory\n",
        "EpisodeRewardsToGoMemory = collections.namedtuple(\"EpisodeRewardsToGoMemory\", [\"obs\", \"action\", \"reward_to_go\"])\n",
        "\n",
        "class EpisodeRewardsToGoBuffer:\n",
        "\n",
        "    def __init__(self, num_transitions_to_store=512, batch_size=256):\n",
        "        self.batch_size = batch_size\n",
        "        self.memory_buffer = collections.deque(maxlen=num_transitions_to_store)\n",
        "        self.current_episode_transition_buffer = []\n",
        "\n",
        "    def push(self, transition):\n",
        "        self.current_episode_transition_buffer.append(transition)\n",
        "\n",
        "        if transition.done:\n",
        "\n",
        "            episode_rewards = []\n",
        "            for t in self.current_episode_transition_buffer:\n",
        "                episode_rewards.append(t.reward)\n",
        "\n",
        "            r2g = compute_rewards_to_go(episode_rewards)\n",
        "\n",
        "            for i, t in enumerate(self.current_episode_transition_buffer):\n",
        "                memory = EpisodeRewardsToGoMemory(t.obs, t.action, r2g[i])\n",
        "                self.memory_buffer.append(memory)\n",
        "\n",
        "            # Reset episode buffer\n",
        "            self.current_episode_transition_buffer = []\n",
        "\n",
        "\n",
        "    def is_ready(self):\n",
        "        return len(self.memory_buffer) >= self.batch_size\n",
        "\n",
        "    def sample(self):\n",
        "        random_memory_sample = random.sample(self.memory_buffer, self.batch_size)\n",
        "\n",
        "        obs_batch, action_batch, reward_to_go_batch = zip(*random_memory_sample)\n",
        "\n",
        "        return EpisodeRewardsToGoMemory(\n",
        "            np.stack(obs_batch).astype(\"float32\"),\n",
        "            np.asarray(action_batch).astype(\"int32\"),\n",
        "            np.asarray(reward_to_go_batch).astype(\"int32\")\n",
        "        )\n",
        "\n",
        "\n",
        "# Instantiate Memory\n",
        "REINFORCE_memory = EpisodeRewardsToGoBuffer(num_transitions_to_store=512, batch_size=256)"
      ],
      "metadata": {
        "id": "EmQsDMn49tE6"
      },
      "execution_count": 34,
      "outputs": []
    },
    {
      "cell_type": "markdown",
      "source": [
        "# **Policy neural network**"
      ],
      "metadata": {
        "id": "MCPeyDT094LF"
      }
    },
    {
      "cell_type": "code",
      "source": [
        "def make_policy_network(num_actions: int, layers=[20, 20]) -> hk.Transformed:\n",
        "  \"\"\"Factory for a simple MLP network for the policy.\"\"\"\n",
        "\n",
        "  def policy_network(obs):\n",
        "    network = hk.Sequential(\n",
        "        [\n",
        "            hk.Flatten(),\n",
        "            hk.nets.MLP(layers + [num_actions])\n",
        "        ]\n",
        "    )\n",
        "    return network(obs)\n",
        "\n",
        "  return hk.without_apply_rng(hk.transform(policy_network))"
      ],
      "metadata": {
        "id": "WIt0-LNC90_M"
      },
      "execution_count": 35,
      "outputs": []
    },
    {
      "cell_type": "code",
      "source": [
        "# Example\n",
        "POLICY_NETWORK = make_policy_network(num_actions=num_actions, layers=[20,20])\n",
        "random_key = jax.random.PRNGKey(42) # random key\n",
        "dummy_obs = np.ones(obs_shape, \"float32\")\n",
        "\n",
        "# Initialise parameters\n",
        "REINFORCE_params = POLICY_NETWORK.init(random_key, dummy_obs)\n",
        "print(\"Initial params:\", REINFORCE_params.keys())\n",
        "\n",
        "# Pass input through the network\n",
        "output = POLICY_NETWORK.apply(REINFORCE_params, dummy_obs)\n",
        "print(\"Policy network output:\", output)"
      ],
      "metadata": {
        "colab": {
          "base_uri": "https://localhost:8080/"
        },
        "id": "9i-bCsSr97uq",
        "outputId": "3d4f26fd-dd53-451d-c781-f3c79d39f604"
      },
      "execution_count": 36,
      "outputs": [
        {
          "output_type": "stream",
          "name": "stdout",
          "text": [
            "Initial params: dict_keys(['mlp/~/linear_0', 'mlp/~/linear_1', 'mlp/~/linear_2'])\n",
            "Policy network output: [ 0.91155875 -0.39617383]\n"
          ]
        }
      ]
    },
    {
      "cell_type": "markdown",
      "source": [
        "# **REINFORCE choose action function**"
      ],
      "metadata": {
        "id": "6El4dHhW-BPQ"
      }
    },
    {
      "cell_type": "code",
      "source": [
        "# Solution exercise 8 {display-mode: \"form\"}\n",
        "\n",
        "def sample_action(random_key, logits):\n",
        "\n",
        "    # YOUR CODE HERE\n",
        "\n",
        "    action = jax.random.categorical(random_key, logits)\n",
        "\n",
        "    # END YOUR code\n",
        "\n",
        "    return action"
      ],
      "metadata": {
        "id": "SQZ1kt6w9-4c"
      },
      "execution_count": 37,
      "outputs": []
    },
    {
      "cell_type": "code",
      "source": [
        "# Check exercise 8 {display-mode: \"form\"}\n",
        "\n",
        "try:\n",
        "  random_key = jax.random.PRNGKey(42) # random key\n",
        "  action = sample_action(random_key, np.array([1,2], \"float32\"))\n",
        "  if action != 1:\n",
        "    print(\"Your function is incorrect.\")\n",
        "  else:\n",
        "    print(\"Seems correct.\")\n",
        "except Exception as e:\n",
        "    print(\"An Error Occured: {}\".format(e))"
      ],
      "metadata": {
        "colab": {
          "base_uri": "https://localhost:8080/"
        },
        "id": "vMZG1C6C-FqI",
        "outputId": "bf495550-c32c-4230-d1ae-222ffc4ca083"
      },
      "execution_count": 39,
      "outputs": [
        {
          "output_type": "stream",
          "name": "stdout",
          "text": [
            "Seems correct.\n"
          ]
        }
      ]
    },
    {
      "cell_type": "code",
      "source": [
        "def REINFORCE_choose_action(key, params, actor_state, obs, evaluation=False):\n",
        "  obs = jnp.expand_dims(obs, axis=0) # add dummy batch dim before passing through network\n",
        "\n",
        "  # Pass obs through policy network to compute logits\n",
        "  logits = POLICY_NETWORK.apply(params, obs)\n",
        "  logits = logits[0] # remove batch dim\n",
        "\n",
        "  # Randomly sample action\n",
        "  sampled_action = sample_action(key, logits)\n",
        "\n",
        "  return sampled_action, actor_state"
      ],
      "metadata": {
        "id": "_id3lQtr-JTV"
      },
      "execution_count": 40,
      "outputs": []
    },
    {
      "cell_type": "markdown",
      "source": [
        "# **Policy gradient loss**"
      ],
      "metadata": {
        "id": "NqbtxRCJ-Q-N"
      }
    },
    {
      "cell_type": "code",
      "source": [
        "#Solution exercise 9 {display-mode: \"form\"}\n",
        "\n",
        "def policy_gradient_loss(action, logits, reward_to_go):\n",
        "\n",
        "  # YOUR CODE\n",
        "\n",
        "  all_action_probs = jax.nn.softmax(logits) # convert logits into probs\n",
        "\n",
        "  action_prob = all_action_probs[action]\n",
        "\n",
        "  weighted_log_prob = compute_weighted_log_prob(action_prob, reward_to_go)\n",
        "\n",
        "  # END YOUR CODE\n",
        "\n",
        "  loss = - weighted_log_prob # negative because we want gradient `ascent`\n",
        "\n",
        "  return loss"
      ],
      "metadata": {
        "id": "5ojK1NgV-Op-"
      },
      "execution_count": 43,
      "outputs": []
    },
    {
      "cell_type": "code",
      "source": [
        "#Check exercise 9 {display-mode: \"form\"}\n",
        "\n",
        "try:\n",
        "  result = policy_gradient_loss(1, np.array([1,2], \"float32\"), 10)\n",
        "  if result != 3.1326165:\n",
        "    print(\"Your implementation looks wrong.\")\n",
        "  else:\n",
        "    print(\"Looks correct.\")\n",
        "except Exception as e:\n",
        "  print(\"An Error Occured: {}\".format(e))"
      ],
      "metadata": {
        "colab": {
          "base_uri": "https://localhost:8080/"
        },
        "id": "GW_7BfLj-VQW",
        "outputId": "586b430d-cd68-46d1-9bfe-f7e8c441d4fd"
      },
      "execution_count": 44,
      "outputs": [
        {
          "output_type": "stream",
          "name": "stdout",
          "text": [
            "Your implementation looks wrong.\n"
          ]
        }
      ]
    },
    {
      "cell_type": "code",
      "source": [
        "def batched_policy_gradient_loss(params, obs_batch, action_batch, reward_to_go_batch):\n",
        "    # Get logits by passing observation through network\n",
        "    logits_batch = POLICY_NETWORK.apply(params, obs_batch)\n",
        "\n",
        "    policy_gradient_loss_batch = jax.vmap(policy_gradient_loss)(action_batch, logits_batch, reward_to_go_batch) # add batch\n",
        "\n",
        "    # Compute mean loss over batch\n",
        "    mean_policy_gradient_loss = jnp.mean(policy_gradient_loss_batch)\n",
        "\n",
        "    return mean_policy_gradient_loss\n",
        "\n",
        "# TEST\n",
        "obs_batch = np.ones((3, *obs_shape), \"float32\")\n",
        "actions_batch = np.array([1,0,0])\n",
        "rew2go_batch = np.array([2.3, 4.3, 2.1])\n",
        "\n",
        "loss = batched_policy_gradient_loss(REINFORCE_params, obs_batch, actions_batch, rew2go_batch)\n",
        "\n",
        "print(\"Policy gradient loss on batch:\", loss)"
      ],
      "metadata": {
        "colab": {
          "base_uri": "https://localhost:8080/"
        },
        "id": "mUU3YfvB-ZGh",
        "outputId": "0d191fb8-0c9d-4b1b-f85e-b7f57e6de182"
      },
      "execution_count": 45,
      "outputs": [
        {
          "output_type": "stream",
          "name": "stdout",
          "text": [
            "Policy gradient loss on batch: 1.6967316\n"
          ]
        }
      ]
    },
    {
      "cell_type": "code",
      "source": [
        "REINFORCE_OPTIMIZER = optax.adam(1e-3)\n",
        "\n",
        "# Initialise the optimiser\n",
        "REINFORCE_optim_state = REINFORCE_OPTIMIZER.init(REINFORCE_params)"
      ],
      "metadata": {
        "id": "ZqdWxUj2-1Sn"
      },
      "execution_count": 46,
      "outputs": []
    },
    {
      "cell_type": "code",
      "source": [
        "# A NamedTuple to store the state of the optimiser\n",
        "REINFORCELearnState = collections.namedtuple(\"LearnerState\", [\"optim_state\"])\n",
        "\n",
        "\n",
        "def REINFORCE_learn(key, params, learner_state, memory):\n",
        "\n",
        "  # Get the policy gradient by using `jax.grad()` on `batched_policy_gradient_loss`\n",
        "  grad_loss = jax.grad(batched_policy_gradient_loss)(params, memory.obs, memory.action, memory.reward_to_go)\n",
        "\n",
        "  # Get param updates using gradient and optimizer\n",
        "  updates, new_optim_state = REINFORCE_OPTIMIZER.update(grad_loss, learner_state.optim_state)\n",
        "\n",
        "  # Apply updates to params\n",
        "  params = optax.apply_updates(params, updates)\n",
        "\n",
        "  return params, REINFORCELearnState(new_optim_state) # update learner state"
      ],
      "metadata": {
        "id": "KtDR_8s3-5LX"
      },
      "execution_count": 47,
      "outputs": []
    },
    {
      "cell_type": "markdown",
      "source": [
        "# **REINFORCE training loop**"
      ],
      "metadata": {
        "id": "Z3ZKhmNp--Tc"
      }
    },
    {
      "cell_type": "code",
      "source": [
        "# JIT the choose_action and learn functions for more speed\n",
        "REINFORCE_learn_jit = jax.jit(REINFORCE_learn)\n",
        "REINFORCE_choose_action_jit = jax.jit(REINFORCE_choose_action)\n",
        "\n",
        "# Initial learn state\n",
        "REINFORCE_learn_state = REINFORCELearnState(REINFORCE_optim_state)\n",
        "\n",
        "# Run training loop\n",
        "print(\"Starting training. This may take up to 10 minutes to complete.\")\n",
        "episode_returns, evaluator_returns = run_training_loop(\n",
        "                                        env_name,\n",
        "                                        REINFORCE_params,\n",
        "                                        REINFORCE_choose_action_jit,\n",
        "                                        None, # action state not used\n",
        "                                        REINFORCE_learn_jit,\n",
        "                                        REINFORCE_learn_state,\n",
        "                                        REINFORCE_memory,\n",
        "                                        num_episodes=10_001,\n",
        "                                        learn_steps_per_episode=2,\n",
        "                                        video_subdir=\"reinforce\"\n",
        "                                      )\n",
        "\n",
        "# Plot the episode returns\n",
        "plt.plot(episode_returns)\n",
        "plt.xlabel(\"Episode\")\n",
        "plt.ylabel(\"Episode Return\")\n",
        "plt.title(\"REINFORCE\")\n",
        "plt.show()"
      ],
      "metadata": {
        "colab": {
          "base_uri": "https://localhost:8080/"
        },
        "id": "hnq-GUcD-7wG",
        "outputId": "5362301a-9fe1-4394-fd4a-12c056b5e2c3"
      },
      "execution_count": null,
      "outputs": [
        {
          "output_type": "stream",
          "name": "stdout",
          "text": [
            "Starting training. This may take up to 10 minutes to complete.\n",
            "Episode: 0\tEpisode Return: 12.0\tAverage Episode Return: 12.0\tEvaluator Episode Return: 18.625\n",
            "Episode: 100\tEpisode Return: 48.0\tAverage Episode Return: 86.2\tEvaluator Episode Return: 103.375\n",
            "Episode: 200\tEpisode Return: 182.0\tAverage Episode Return: 140.85\tEvaluator Episode Return: 147.25\n",
            "Episode: 300\tEpisode Return: 180.0\tAverage Episode Return: 180.05\tEvaluator Episode Return: 199.625\n",
            "Episode: 400\tEpisode Return: 200.0\tAverage Episode Return: 151.8\tEvaluator Episode Return: 159.0\n",
            "Episode: 500\tEpisode Return: 200.0\tAverage Episode Return: 194.25\tEvaluator Episode Return: 195.375\n",
            "Episode: 600\tEpisode Return: 200.0\tAverage Episode Return: 195.8\tEvaluator Episode Return: 185.125\n",
            "Episode: 700\tEpisode Return: 139.0\tAverage Episode Return: 196.95\tEvaluator Episode Return: 192.5\n",
            "Episode: 800\tEpisode Return: 200.0\tAverage Episode Return: 200.0\tEvaluator Episode Return: 200.0\n",
            "Episode: 900\tEpisode Return: 177.0\tAverage Episode Return: 191.2\tEvaluator Episode Return: 192.625\n",
            "Episode: 1000\tEpisode Return: 164.0\tAverage Episode Return: 162.75\tEvaluator Episode Return: 137.375\n"
          ]
        }
      ]
    },
    {
      "cell_type": "code",
      "source": [
        "#Visualise Policy {display-mode: \"form\"}\n",
        "#Choose an episode number that is a multiple of 100 and less than or equal to 1000, and **run this cell**.\n",
        "\n",
        "episode_number = 100 #@param {type:\"number\"}\n",
        "\n",
        "assert (episode_number % 100) == 0, \"Episode number must be a multiple of 100 since we only record every 100th episode.\"\n",
        "assert episode_number < 1001, \"Episode number must be less than or equal to 1000\"\n",
        "\n",
        "eval_episode_number = int(episode_number / 100 * 8)\n",
        "video_path = f\"./video/reinforce/eval/rl-video-episode-{eval_episode_number}.mp4\"\n",
        "\n",
        "mp4 = open(video_path,'rb').read()\n",
        "data_url = \"data:video/mp4;base64,\" + b64encode(mp4).decode()\n",
        "HTML(\"\"\"\n",
        "<video width=400 controls>\n",
        "      <source src=\"%s\" type=\"video/mp4\">\n",
        "</video>\n",
        "\"\"\" % data_url)"
      ],
      "metadata": {
        "id": "GS6kI2wc_CdH"
      },
      "execution_count": null,
      "outputs": []
    },
    {
      "cell_type": "markdown",
      "source": [
        "# **Q-Learning**\n",
        "\n",
        "Another common aproach to finding an optimal policy in an environment using RL is via Q-learning."
      ],
      "metadata": {
        "id": "Ygy8137z_QUf"
      }
    },
    {
      "cell_type": "markdown",
      "source": [
        "# **State-Action Value function**"
      ],
      "metadata": {
        "id": "M5HHI3c6_W20"
      }
    },
    {
      "cell_type": "markdown",
      "source": [
        "**Greedy action selection**"
      ],
      "metadata": {
        "id": "gfcZVLDb_ak0"
      }
    },
    {
      "cell_type": "code",
      "source": [
        "# Solution exercise 10 {display-mode: \"form\"}\n",
        "\n",
        "def select_greedy_action(q_values):\n",
        "\n",
        "  # YOUR CODE\n",
        "  action = jnp.argmax(q_values)\n",
        "  # END YOUR CODE\n",
        "\n",
        "  return action"
      ],
      "metadata": {
        "id": "ntEAFOZU_UEF"
      },
      "execution_count": null,
      "outputs": []
    },
    {
      "cell_type": "code",
      "source": [
        "#  Check exercise 10 (run me) {display-mode: \"form\"}\n",
        "\n",
        "try:\n",
        "  q_values = jnp.array([1,1,3,4])\n",
        "  action = select_greedy_action(q_values)\n",
        "\n",
        "  if action != 3:\n",
        "    print(\"Incorrect answer, your greedy action selector looks wrong\")\n",
        "  else:\n",
        "    print(\"Looks good.\")\n",
        "except Exception as e:\n",
        "  print(\"An Error Occured: {}\".format(e))"
      ],
      "metadata": {
        "id": "PK7yAOxH_ibz"
      },
      "execution_count": null,
      "outputs": []
    },
    {
      "cell_type": "markdown",
      "source": [
        "# **Q-Network**"
      ],
      "metadata": {
        "id": "KUof0oo0_pw_"
      }
    },
    {
      "cell_type": "code",
      "source": [
        "def build_network(num_actions: int, layers=[20, 20]) -> hk.Transformed:\n",
        "  \"\"\"Factory for a simple MLP network for approximating Q-values.\"\"\"\n",
        "\n",
        "  def q_network(obs):\n",
        "    network = hk.Sequential(\n",
        "        [hk.Flatten(),\n",
        "         hk.nets.MLP(layers + [num_actions])])\n",
        "    return network(obs)\n",
        "\n",
        "  return hk.without_apply_rng(hk.transform(q_network))"
      ],
      "metadata": {
        "id": "q1Rhh2WN_m9t"
      },
      "execution_count": null,
      "outputs": []
    },
    {
      "cell_type": "code",
      "source": [
        "# Initialise Q-network\n",
        "Q_NETWORK = build_network(num_actions=num_actions, layers=[20, 20]) # two actions\n",
        "\n",
        "dummy_obs = jnp.zeros((1,*obs_shape), jnp.float32) # a dummy observation like the one in CartPole\n",
        "\n",
        "random_key = jax.random.PRNGKey(42) # random key\n",
        "Q_NETWORK_PARAMS = Q_NETWORK.init(random_key, dummy_obs) # Get initial params\n",
        "\n",
        "print(\"Q-Learning params:\", Q_NETWORK_PARAMS.keys())"
      ],
      "metadata": {
        "id": "d94JXirI_tD6"
      },
      "execution_count": null,
      "outputs": []
    },
    {
      "cell_type": "markdown",
      "source": [
        "# **The Bellman Equations**"
      ],
      "metadata": {
        "id": "l-KzCzd__xdj"
      }
    },
    {
      "cell_type": "markdown",
      "source": [
        "# **The Bellman Backup**"
      ],
      "metadata": {
        "id": "2k6RM1SX_1HR"
      }
    },
    {
      "cell_type": "code",
      "source": [
        "#Solution exercise 11 {display-mode: \"form\"}\n",
        "def compute_squared_error(pred, target):\n",
        "\n",
        "  # YOUR CODE\n",
        "  squared_error = jax.numpy.square(pred - target)\n",
        "  # END YOUR CODE\n",
        "  return squared_error"
      ],
      "metadata": {
        "id": "K2Hj5gdW_vt_"
      },
      "execution_count": null,
      "outputs": []
    },
    {
      "cell_type": "code",
      "source": [
        "#Check exercise 11 {display-mode: \"form\"}\n",
        "\n",
        "try:\n",
        "  result = compute_squared_error(1, 4)\n",
        "\n",
        "  if result != 9:\n",
        "    print(\"Your implementation looks wrong.\")\n",
        "  else:\n",
        "    print(\"Looks good.\")\n",
        "except Exception as e:\n",
        "  print(\"An Error Occured: {}\".format(e))"
      ],
      "metadata": {
        "id": "tbB4kguA_7Lk"
      },
      "execution_count": null,
      "outputs": []
    },
    {
      "cell_type": "code",
      "source": [
        "# Solution exercise 12 {display-mode: \"form\"}\n",
        "\n",
        "# Bellman target\n",
        "def compute_bellman_target(reward, done, next_q_values):\n",
        "    \"\"\"A function to compute the bellman target.\n",
        "\n",
        "    Args:\n",
        "        reward: a scalar reward.\n",
        "        done: a scalar of value either 1.0 or 0.0, indicating if the transition is a terminal one.\n",
        "        next_q_values: a vector of q_values for the next state. One for each action.\n",
        "    Returns:\n",
        "        A scalar equal to the bellman target.\n",
        "\n",
        "    \"\"\"\n",
        "    # YOUR CODE\n",
        "    bellman_target = reward + (1.0 - done) * jax.numpy.max(next_q_values)\n",
        "    # END YOUR CODE\n",
        "\n",
        "    return bellman_target"
      ],
      "metadata": {
        "id": "aSn41PtL_9SH"
      },
      "execution_count": null,
      "outputs": []
    },
    {
      "cell_type": "code",
      "source": [
        "#Check exercise 12 {display-mode: \"form\"}\n",
        "\n",
        "try:\n",
        "  # not done\n",
        "  result1 = compute_bellman_target(1, 0.0, np.array([3,2], \"float32\"))\n",
        "\n",
        "  # done\n",
        "  result2 = compute_bellman_target(1, 1.0, np.array([3,2], \"float32\"))\n",
        "\n",
        "  if result1 != 4 or result2 != 1:\n",
        "    print(\"Your implementation looks wrong.\")\n",
        "  else:\n",
        "    print(\"Looks good.\")\n",
        "except Exception as e:\n",
        "  print(\"An Error Occured: {}\".format(e))"
      ],
      "metadata": {
        "id": "e86o0WVeAFx2"
      },
      "execution_count": null,
      "outputs": []
    },
    {
      "cell_type": "code",
      "source": [],
      "metadata": {
        "id": "F3vT8WdWAJVX"
      },
      "execution_count": null,
      "outputs": []
    }
  ]
}